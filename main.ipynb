{
 "cells": [
  {
   "cell_type": "code",
   "execution_count": 80,
   "metadata": {},
   "outputs": [],
   "source": [
    "import pandas as pd \n",
    "import requests \n",
    "pd.set_option('display.max_columns', None)\n",
    "import time\n",
    "import numpy as np\n",
    "import plotly.express as px\n",
    "import plotly.graph_objects as go\n",
    "pd.set_option('display.max_columns', None)\n",
    "from matplotlib import pyplot as plt\n"
   ]
  },
  {
   "cell_type": "code",
   "execution_count": 81,
   "metadata": {},
   "outputs": [],
   "source": [
    "test_url = 'https://stats.nba.com/stats/leagueLeaders?LeagueID=00&PerMode=Totals&Scope=S&Season=2010-11&SeasonType=Regular%20Season&StatCategory=PTS'"
   ]
  },
  {
   "cell_type": "code",
   "execution_count": 82,
   "metadata": {},
   "outputs": [],
   "source": [
    "r = requests.get(url=test_url).json()"
   ]
  },
  {
   "cell_type": "code",
   "execution_count": 83,
   "metadata": {},
   "outputs": [],
   "source": [
    "table_headers = r['resultSet']['headers']"
   ]
  },
  {
   "cell_type": "code",
   "execution_count": 84,
   "metadata": {},
   "outputs": [
    {
     "data": {
      "text/html": [
       "<div>\n",
       "<style scoped>\n",
       "    .dataframe tbody tr th:only-of-type {\n",
       "        vertical-align: middle;\n",
       "    }\n",
       "\n",
       "    .dataframe tbody tr th {\n",
       "        vertical-align: top;\n",
       "    }\n",
       "\n",
       "    .dataframe thead th {\n",
       "        text-align: right;\n",
       "    }\n",
       "</style>\n",
       "<table border=\"1\" class=\"dataframe\">\n",
       "  <thead>\n",
       "    <tr style=\"text-align: right;\">\n",
       "      <th></th>\n",
       "      <th>PLAYER_ID</th>\n",
       "      <th>RANK</th>\n",
       "      <th>PLAYER</th>\n",
       "      <th>TEAM_ID</th>\n",
       "      <th>TEAM</th>\n",
       "      <th>GP</th>\n",
       "      <th>MIN</th>\n",
       "      <th>FGM</th>\n",
       "      <th>FGA</th>\n",
       "      <th>FG_PCT</th>\n",
       "      <th>FG3M</th>\n",
       "      <th>FG3A</th>\n",
       "      <th>FG3_PCT</th>\n",
       "      <th>FTM</th>\n",
       "      <th>FTA</th>\n",
       "      <th>FT_PCT</th>\n",
       "      <th>OREB</th>\n",
       "      <th>DREB</th>\n",
       "      <th>REB</th>\n",
       "      <th>AST</th>\n",
       "      <th>STL</th>\n",
       "      <th>BLK</th>\n",
       "      <th>TOV</th>\n",
       "      <th>PF</th>\n",
       "      <th>PTS</th>\n",
       "      <th>EFF</th>\n",
       "      <th>AST_TOV</th>\n",
       "      <th>STL_TOV</th>\n",
       "    </tr>\n",
       "  </thead>\n",
       "  <tbody>\n",
       "    <tr>\n",
       "      <th>0</th>\n",
       "      <td>201142</td>\n",
       "      <td>1</td>\n",
       "      <td>Kevin Durant</td>\n",
       "      <td>1610612760</td>\n",
       "      <td>OKC</td>\n",
       "      <td>78</td>\n",
       "      <td>3038</td>\n",
       "      <td>711</td>\n",
       "      <td>1538</td>\n",
       "      <td>0.462</td>\n",
       "      <td>145</td>\n",
       "      <td>414</td>\n",
       "      <td>0.350</td>\n",
       "      <td>594</td>\n",
       "      <td>675</td>\n",
       "      <td>0.880</td>\n",
       "      <td>57</td>\n",
       "      <td>476</td>\n",
       "      <td>533</td>\n",
       "      <td>214</td>\n",
       "      <td>88</td>\n",
       "      <td>76</td>\n",
       "      <td>218</td>\n",
       "      <td>159</td>\n",
       "      <td>2161</td>\n",
       "      <td>1946</td>\n",
       "      <td>0.98</td>\n",
       "      <td>0.40</td>\n",
       "    </tr>\n",
       "    <tr>\n",
       "      <th>1</th>\n",
       "      <td>2544</td>\n",
       "      <td>2</td>\n",
       "      <td>LeBron James</td>\n",
       "      <td>1610612748</td>\n",
       "      <td>MIA</td>\n",
       "      <td>79</td>\n",
       "      <td>3063</td>\n",
       "      <td>758</td>\n",
       "      <td>1485</td>\n",
       "      <td>0.510</td>\n",
       "      <td>92</td>\n",
       "      <td>279</td>\n",
       "      <td>0.330</td>\n",
       "      <td>503</td>\n",
       "      <td>663</td>\n",
       "      <td>0.759</td>\n",
       "      <td>80</td>\n",
       "      <td>510</td>\n",
       "      <td>590</td>\n",
       "      <td>554</td>\n",
       "      <td>124</td>\n",
       "      <td>50</td>\n",
       "      <td>284</td>\n",
       "      <td>163</td>\n",
       "      <td>2111</td>\n",
       "      <td>2258</td>\n",
       "      <td>1.95</td>\n",
       "      <td>0.44</td>\n",
       "    </tr>\n",
       "    <tr>\n",
       "      <th>2</th>\n",
       "      <td>977</td>\n",
       "      <td>3</td>\n",
       "      <td>Kobe Bryant</td>\n",
       "      <td>1610612747</td>\n",
       "      <td>LAL</td>\n",
       "      <td>82</td>\n",
       "      <td>2779</td>\n",
       "      <td>740</td>\n",
       "      <td>1639</td>\n",
       "      <td>0.451</td>\n",
       "      <td>115</td>\n",
       "      <td>356</td>\n",
       "      <td>0.323</td>\n",
       "      <td>483</td>\n",
       "      <td>583</td>\n",
       "      <td>0.828</td>\n",
       "      <td>83</td>\n",
       "      <td>336</td>\n",
       "      <td>419</td>\n",
       "      <td>388</td>\n",
       "      <td>99</td>\n",
       "      <td>12</td>\n",
       "      <td>243</td>\n",
       "      <td>172</td>\n",
       "      <td>2078</td>\n",
       "      <td>1754</td>\n",
       "      <td>1.60</td>\n",
       "      <td>0.41</td>\n",
       "    </tr>\n",
       "    <tr>\n",
       "      <th>3</th>\n",
       "      <td>201565</td>\n",
       "      <td>4</td>\n",
       "      <td>Derrick Rose</td>\n",
       "      <td>1610612741</td>\n",
       "      <td>CHI</td>\n",
       "      <td>81</td>\n",
       "      <td>3026</td>\n",
       "      <td>711</td>\n",
       "      <td>1597</td>\n",
       "      <td>0.445</td>\n",
       "      <td>128</td>\n",
       "      <td>385</td>\n",
       "      <td>0.332</td>\n",
       "      <td>476</td>\n",
       "      <td>555</td>\n",
       "      <td>0.858</td>\n",
       "      <td>81</td>\n",
       "      <td>249</td>\n",
       "      <td>330</td>\n",
       "      <td>623</td>\n",
       "      <td>85</td>\n",
       "      <td>51</td>\n",
       "      <td>278</td>\n",
       "      <td>136</td>\n",
       "      <td>2026</td>\n",
       "      <td>1872</td>\n",
       "      <td>2.24</td>\n",
       "      <td>0.31</td>\n",
       "    </tr>\n",
       "    <tr>\n",
       "      <th>4</th>\n",
       "      <td>2405</td>\n",
       "      <td>5</td>\n",
       "      <td>Amar'e Stoudemire</td>\n",
       "      <td>1610612752</td>\n",
       "      <td>NYK</td>\n",
       "      <td>78</td>\n",
       "      <td>2870</td>\n",
       "      <td>744</td>\n",
       "      <td>1482</td>\n",
       "      <td>0.502</td>\n",
       "      <td>10</td>\n",
       "      <td>23</td>\n",
       "      <td>0.435</td>\n",
       "      <td>473</td>\n",
       "      <td>597</td>\n",
       "      <td>0.792</td>\n",
       "      <td>198</td>\n",
       "      <td>438</td>\n",
       "      <td>636</td>\n",
       "      <td>202</td>\n",
       "      <td>71</td>\n",
       "      <td>150</td>\n",
       "      <td>250</td>\n",
       "      <td>274</td>\n",
       "      <td>1971</td>\n",
       "      <td>1918</td>\n",
       "      <td>0.81</td>\n",
       "      <td>0.28</td>\n",
       "    </tr>\n",
       "    <tr>\n",
       "      <th>...</th>\n",
       "      <td>...</td>\n",
       "      <td>...</td>\n",
       "      <td>...</td>\n",
       "      <td>...</td>\n",
       "      <td>...</td>\n",
       "      <td>...</td>\n",
       "      <td>...</td>\n",
       "      <td>...</td>\n",
       "      <td>...</td>\n",
       "      <td>...</td>\n",
       "      <td>...</td>\n",
       "      <td>...</td>\n",
       "      <td>...</td>\n",
       "      <td>...</td>\n",
       "      <td>...</td>\n",
       "      <td>...</td>\n",
       "      <td>...</td>\n",
       "      <td>...</td>\n",
       "      <td>...</td>\n",
       "      <td>...</td>\n",
       "      <td>...</td>\n",
       "      <td>...</td>\n",
       "      <td>...</td>\n",
       "      <td>...</td>\n",
       "      <td>...</td>\n",
       "      <td>...</td>\n",
       "      <td>...</td>\n",
       "      <td>...</td>\n",
       "    </tr>\n",
       "    <tr>\n",
       "      <th>447</th>\n",
       "      <td>689</td>\n",
       "      <td>443</td>\n",
       "      <td>Theo Ratliff</td>\n",
       "      <td>1610612747</td>\n",
       "      <td>LAL</td>\n",
       "      <td>10</td>\n",
       "      <td>71</td>\n",
       "      <td>1</td>\n",
       "      <td>6</td>\n",
       "      <td>0.167</td>\n",
       "      <td>0</td>\n",
       "      <td>0</td>\n",
       "      <td>0.000</td>\n",
       "      <td>0</td>\n",
       "      <td>2</td>\n",
       "      <td>0.000</td>\n",
       "      <td>6</td>\n",
       "      <td>7</td>\n",
       "      <td>13</td>\n",
       "      <td>3</td>\n",
       "      <td>2</td>\n",
       "      <td>5</td>\n",
       "      <td>3</td>\n",
       "      <td>7</td>\n",
       "      <td>2</td>\n",
       "      <td>15</td>\n",
       "      <td>1.00</td>\n",
       "      <td>0.67</td>\n",
       "    </tr>\n",
       "    <tr>\n",
       "      <th>448</th>\n",
       "      <td>2250</td>\n",
       "      <td>449</td>\n",
       "      <td>Bobby Simmons</td>\n",
       "      <td>1610612759</td>\n",
       "      <td>SAS</td>\n",
       "      <td>2</td>\n",
       "      <td>16</td>\n",
       "      <td>0</td>\n",
       "      <td>3</td>\n",
       "      <td>0.000</td>\n",
       "      <td>0</td>\n",
       "      <td>3</td>\n",
       "      <td>0.000</td>\n",
       "      <td>0</td>\n",
       "      <td>0</td>\n",
       "      <td>0.000</td>\n",
       "      <td>0</td>\n",
       "      <td>0</td>\n",
       "      <td>0</td>\n",
       "      <td>2</td>\n",
       "      <td>0</td>\n",
       "      <td>0</td>\n",
       "      <td>0</td>\n",
       "      <td>2</td>\n",
       "      <td>0</td>\n",
       "      <td>-1</td>\n",
       "      <td>0.00</td>\n",
       "      <td>0.00</td>\n",
       "    </tr>\n",
       "    <tr>\n",
       "      <th>449</th>\n",
       "      <td>1730</td>\n",
       "      <td>449</td>\n",
       "      <td>Brian Skinner</td>\n",
       "      <td>1610612749</td>\n",
       "      <td>MIL</td>\n",
       "      <td>2</td>\n",
       "      <td>6</td>\n",
       "      <td>0</td>\n",
       "      <td>0</td>\n",
       "      <td>0.000</td>\n",
       "      <td>0</td>\n",
       "      <td>0</td>\n",
       "      <td>0.000</td>\n",
       "      <td>0</td>\n",
       "      <td>0</td>\n",
       "      <td>0.000</td>\n",
       "      <td>0</td>\n",
       "      <td>0</td>\n",
       "      <td>0</td>\n",
       "      <td>0</td>\n",
       "      <td>0</td>\n",
       "      <td>0</td>\n",
       "      <td>0</td>\n",
       "      <td>0</td>\n",
       "      <td>0</td>\n",
       "      <td>0</td>\n",
       "      <td>0.00</td>\n",
       "      <td>0.00</td>\n",
       "    </tr>\n",
       "    <tr>\n",
       "      <th>450</th>\n",
       "      <td>202371</td>\n",
       "      <td>449</td>\n",
       "      <td>Gani Lawal</td>\n",
       "      <td>1610612756</td>\n",
       "      <td>PHX</td>\n",
       "      <td>1</td>\n",
       "      <td>2</td>\n",
       "      <td>0</td>\n",
       "      <td>0</td>\n",
       "      <td>0.000</td>\n",
       "      <td>0</td>\n",
       "      <td>0</td>\n",
       "      <td>0.000</td>\n",
       "      <td>0</td>\n",
       "      <td>0</td>\n",
       "      <td>0.000</td>\n",
       "      <td>0</td>\n",
       "      <td>0</td>\n",
       "      <td>0</td>\n",
       "      <td>0</td>\n",
       "      <td>0</td>\n",
       "      <td>0</td>\n",
       "      <td>0</td>\n",
       "      <td>1</td>\n",
       "      <td>0</td>\n",
       "      <td>0</td>\n",
       "      <td>0.00</td>\n",
       "      <td>0.00</td>\n",
       "    </tr>\n",
       "    <tr>\n",
       "      <th>451</th>\n",
       "      <td>202355</td>\n",
       "      <td>449</td>\n",
       "      <td>Hassan Whiteside</td>\n",
       "      <td>1610612758</td>\n",
       "      <td>SAC</td>\n",
       "      <td>1</td>\n",
       "      <td>2</td>\n",
       "      <td>0</td>\n",
       "      <td>0</td>\n",
       "      <td>0.000</td>\n",
       "      <td>0</td>\n",
       "      <td>0</td>\n",
       "      <td>0.000</td>\n",
       "      <td>0</td>\n",
       "      <td>0</td>\n",
       "      <td>0.000</td>\n",
       "      <td>0</td>\n",
       "      <td>0</td>\n",
       "      <td>0</td>\n",
       "      <td>0</td>\n",
       "      <td>0</td>\n",
       "      <td>0</td>\n",
       "      <td>0</td>\n",
       "      <td>2</td>\n",
       "      <td>0</td>\n",
       "      <td>0</td>\n",
       "      <td>0.00</td>\n",
       "      <td>0.00</td>\n",
       "    </tr>\n",
       "  </tbody>\n",
       "</table>\n",
       "<p>452 rows × 28 columns</p>\n",
       "</div>"
      ],
      "text/plain": [
       "     PLAYER_ID  RANK             PLAYER     TEAM_ID TEAM  GP   MIN  FGM   FGA  \\\n",
       "0       201142     1       Kevin Durant  1610612760  OKC  78  3038  711  1538   \n",
       "1         2544     2       LeBron James  1610612748  MIA  79  3063  758  1485   \n",
       "2          977     3        Kobe Bryant  1610612747  LAL  82  2779  740  1639   \n",
       "3       201565     4       Derrick Rose  1610612741  CHI  81  3026  711  1597   \n",
       "4         2405     5  Amar'e Stoudemire  1610612752  NYK  78  2870  744  1482   \n",
       "..         ...   ...                ...         ...  ...  ..   ...  ...   ...   \n",
       "447        689   443       Theo Ratliff  1610612747  LAL  10    71    1     6   \n",
       "448       2250   449      Bobby Simmons  1610612759  SAS   2    16    0     3   \n",
       "449       1730   449      Brian Skinner  1610612749  MIL   2     6    0     0   \n",
       "450     202371   449         Gani Lawal  1610612756  PHX   1     2    0     0   \n",
       "451     202355   449   Hassan Whiteside  1610612758  SAC   1     2    0     0   \n",
       "\n",
       "     FG_PCT  FG3M  FG3A  FG3_PCT  FTM  FTA  FT_PCT  OREB  DREB  REB  AST  STL  \\\n",
       "0     0.462   145   414    0.350  594  675   0.880    57   476  533  214   88   \n",
       "1     0.510    92   279    0.330  503  663   0.759    80   510  590  554  124   \n",
       "2     0.451   115   356    0.323  483  583   0.828    83   336  419  388   99   \n",
       "3     0.445   128   385    0.332  476  555   0.858    81   249  330  623   85   \n",
       "4     0.502    10    23    0.435  473  597   0.792   198   438  636  202   71   \n",
       "..      ...   ...   ...      ...  ...  ...     ...   ...   ...  ...  ...  ...   \n",
       "447   0.167     0     0    0.000    0    2   0.000     6     7   13    3    2   \n",
       "448   0.000     0     3    0.000    0    0   0.000     0     0    0    2    0   \n",
       "449   0.000     0     0    0.000    0    0   0.000     0     0    0    0    0   \n",
       "450   0.000     0     0    0.000    0    0   0.000     0     0    0    0    0   \n",
       "451   0.000     0     0    0.000    0    0   0.000     0     0    0    0    0   \n",
       "\n",
       "     BLK  TOV   PF   PTS   EFF  AST_TOV  STL_TOV  \n",
       "0     76  218  159  2161  1946     0.98     0.40  \n",
       "1     50  284  163  2111  2258     1.95     0.44  \n",
       "2     12  243  172  2078  1754     1.60     0.41  \n",
       "3     51  278  136  2026  1872     2.24     0.31  \n",
       "4    150  250  274  1971  1918     0.81     0.28  \n",
       "..   ...  ...  ...   ...   ...      ...      ...  \n",
       "447    5    3    7     2    15     1.00     0.67  \n",
       "448    0    0    2     0    -1     0.00     0.00  \n",
       "449    0    0    0     0     0     0.00     0.00  \n",
       "450    0    0    1     0     0     0.00     0.00  \n",
       "451    0    0    2     0     0     0.00     0.00  \n",
       "\n",
       "[452 rows x 28 columns]"
      ]
     },
     "execution_count": 84,
     "metadata": {},
     "output_type": "execute_result"
    }
   ],
   "source": [
    "pd.DataFrame(r['resultSet']['rowSet'], columns = table_headers)"
   ]
  },
  {
   "cell_type": "code",
   "execution_count": 85,
   "metadata": {},
   "outputs": [
    {
     "data": {
      "text/html": [
       "<div>\n",
       "<style scoped>\n",
       "    .dataframe tbody tr th:only-of-type {\n",
       "        vertical-align: middle;\n",
       "    }\n",
       "\n",
       "    .dataframe tbody tr th {\n",
       "        vertical-align: top;\n",
       "    }\n",
       "\n",
       "    .dataframe thead th {\n",
       "        text-align: right;\n",
       "    }\n",
       "</style>\n",
       "<table border=\"1\" class=\"dataframe\">\n",
       "  <thead>\n",
       "    <tr style=\"text-align: right;\">\n",
       "      <th></th>\n",
       "      <th>Year</th>\n",
       "      <th>Season_type</th>\n",
       "      <th>PLAYER_ID</th>\n",
       "      <th>RANK</th>\n",
       "      <th>PLAYER</th>\n",
       "      <th>TEAM_ID</th>\n",
       "      <th>TEAM</th>\n",
       "      <th>GP</th>\n",
       "      <th>MIN</th>\n",
       "      <th>FGM</th>\n",
       "      <th>FGA</th>\n",
       "      <th>FG_PCT</th>\n",
       "      <th>FG3M</th>\n",
       "      <th>FG3A</th>\n",
       "      <th>FG3_PCT</th>\n",
       "      <th>FTM</th>\n",
       "      <th>FTA</th>\n",
       "      <th>FT_PCT</th>\n",
       "      <th>OREB</th>\n",
       "      <th>DREB</th>\n",
       "      <th>REB</th>\n",
       "      <th>AST</th>\n",
       "      <th>STL</th>\n",
       "      <th>BLK</th>\n",
       "      <th>TOV</th>\n",
       "      <th>PF</th>\n",
       "      <th>PTS</th>\n",
       "      <th>EFF</th>\n",
       "      <th>AST_TOV</th>\n",
       "      <th>STL_TOV</th>\n",
       "    </tr>\n",
       "  </thead>\n",
       "  <tbody>\n",
       "    <tr>\n",
       "      <th>0</th>\n",
       "      <td>2010-11</td>\n",
       "      <td>Regular%20Season</td>\n",
       "      <td>201142</td>\n",
       "      <td>1</td>\n",
       "      <td>Kevin Durant</td>\n",
       "      <td>1610612760</td>\n",
       "      <td>OKC</td>\n",
       "      <td>78</td>\n",
       "      <td>3038</td>\n",
       "      <td>711</td>\n",
       "      <td>1538</td>\n",
       "      <td>0.462</td>\n",
       "      <td>145</td>\n",
       "      <td>414</td>\n",
       "      <td>0.350</td>\n",
       "      <td>594</td>\n",
       "      <td>675</td>\n",
       "      <td>0.880</td>\n",
       "      <td>57</td>\n",
       "      <td>476</td>\n",
       "      <td>533</td>\n",
       "      <td>214</td>\n",
       "      <td>88</td>\n",
       "      <td>76</td>\n",
       "      <td>218</td>\n",
       "      <td>159</td>\n",
       "      <td>2161</td>\n",
       "      <td>1946</td>\n",
       "      <td>0.98</td>\n",
       "      <td>0.40</td>\n",
       "    </tr>\n",
       "    <tr>\n",
       "      <th>1</th>\n",
       "      <td>2010-11</td>\n",
       "      <td>Regular%20Season</td>\n",
       "      <td>2544</td>\n",
       "      <td>2</td>\n",
       "      <td>LeBron James</td>\n",
       "      <td>1610612748</td>\n",
       "      <td>MIA</td>\n",
       "      <td>79</td>\n",
       "      <td>3063</td>\n",
       "      <td>758</td>\n",
       "      <td>1485</td>\n",
       "      <td>0.510</td>\n",
       "      <td>92</td>\n",
       "      <td>279</td>\n",
       "      <td>0.330</td>\n",
       "      <td>503</td>\n",
       "      <td>663</td>\n",
       "      <td>0.759</td>\n",
       "      <td>80</td>\n",
       "      <td>510</td>\n",
       "      <td>590</td>\n",
       "      <td>554</td>\n",
       "      <td>124</td>\n",
       "      <td>50</td>\n",
       "      <td>284</td>\n",
       "      <td>163</td>\n",
       "      <td>2111</td>\n",
       "      <td>2258</td>\n",
       "      <td>1.95</td>\n",
       "      <td>0.44</td>\n",
       "    </tr>\n",
       "    <tr>\n",
       "      <th>2</th>\n",
       "      <td>2010-11</td>\n",
       "      <td>Regular%20Season</td>\n",
       "      <td>977</td>\n",
       "      <td>3</td>\n",
       "      <td>Kobe Bryant</td>\n",
       "      <td>1610612747</td>\n",
       "      <td>LAL</td>\n",
       "      <td>82</td>\n",
       "      <td>2779</td>\n",
       "      <td>740</td>\n",
       "      <td>1639</td>\n",
       "      <td>0.451</td>\n",
       "      <td>115</td>\n",
       "      <td>356</td>\n",
       "      <td>0.323</td>\n",
       "      <td>483</td>\n",
       "      <td>583</td>\n",
       "      <td>0.828</td>\n",
       "      <td>83</td>\n",
       "      <td>336</td>\n",
       "      <td>419</td>\n",
       "      <td>388</td>\n",
       "      <td>99</td>\n",
       "      <td>12</td>\n",
       "      <td>243</td>\n",
       "      <td>172</td>\n",
       "      <td>2078</td>\n",
       "      <td>1754</td>\n",
       "      <td>1.60</td>\n",
       "      <td>0.41</td>\n",
       "    </tr>\n",
       "    <tr>\n",
       "      <th>3</th>\n",
       "      <td>2010-11</td>\n",
       "      <td>Regular%20Season</td>\n",
       "      <td>201565</td>\n",
       "      <td>4</td>\n",
       "      <td>Derrick Rose</td>\n",
       "      <td>1610612741</td>\n",
       "      <td>CHI</td>\n",
       "      <td>81</td>\n",
       "      <td>3026</td>\n",
       "      <td>711</td>\n",
       "      <td>1597</td>\n",
       "      <td>0.445</td>\n",
       "      <td>128</td>\n",
       "      <td>385</td>\n",
       "      <td>0.332</td>\n",
       "      <td>476</td>\n",
       "      <td>555</td>\n",
       "      <td>0.858</td>\n",
       "      <td>81</td>\n",
       "      <td>249</td>\n",
       "      <td>330</td>\n",
       "      <td>623</td>\n",
       "      <td>85</td>\n",
       "      <td>51</td>\n",
       "      <td>278</td>\n",
       "      <td>136</td>\n",
       "      <td>2026</td>\n",
       "      <td>1872</td>\n",
       "      <td>2.24</td>\n",
       "      <td>0.31</td>\n",
       "    </tr>\n",
       "    <tr>\n",
       "      <th>4</th>\n",
       "      <td>2010-11</td>\n",
       "      <td>Regular%20Season</td>\n",
       "      <td>2405</td>\n",
       "      <td>5</td>\n",
       "      <td>Amar'e Stoudemire</td>\n",
       "      <td>1610612752</td>\n",
       "      <td>NYK</td>\n",
       "      <td>78</td>\n",
       "      <td>2870</td>\n",
       "      <td>744</td>\n",
       "      <td>1482</td>\n",
       "      <td>0.502</td>\n",
       "      <td>10</td>\n",
       "      <td>23</td>\n",
       "      <td>0.435</td>\n",
       "      <td>473</td>\n",
       "      <td>597</td>\n",
       "      <td>0.792</td>\n",
       "      <td>198</td>\n",
       "      <td>438</td>\n",
       "      <td>636</td>\n",
       "      <td>202</td>\n",
       "      <td>71</td>\n",
       "      <td>150</td>\n",
       "      <td>250</td>\n",
       "      <td>274</td>\n",
       "      <td>1971</td>\n",
       "      <td>1918</td>\n",
       "      <td>0.81</td>\n",
       "      <td>0.28</td>\n",
       "    </tr>\n",
       "    <tr>\n",
       "      <th>...</th>\n",
       "      <td>...</td>\n",
       "      <td>...</td>\n",
       "      <td>...</td>\n",
       "      <td>...</td>\n",
       "      <td>...</td>\n",
       "      <td>...</td>\n",
       "      <td>...</td>\n",
       "      <td>...</td>\n",
       "      <td>...</td>\n",
       "      <td>...</td>\n",
       "      <td>...</td>\n",
       "      <td>...</td>\n",
       "      <td>...</td>\n",
       "      <td>...</td>\n",
       "      <td>...</td>\n",
       "      <td>...</td>\n",
       "      <td>...</td>\n",
       "      <td>...</td>\n",
       "      <td>...</td>\n",
       "      <td>...</td>\n",
       "      <td>...</td>\n",
       "      <td>...</td>\n",
       "      <td>...</td>\n",
       "      <td>...</td>\n",
       "      <td>...</td>\n",
       "      <td>...</td>\n",
       "      <td>...</td>\n",
       "      <td>...</td>\n",
       "      <td>...</td>\n",
       "      <td>...</td>\n",
       "    </tr>\n",
       "    <tr>\n",
       "      <th>447</th>\n",
       "      <td>2010-11</td>\n",
       "      <td>Regular%20Season</td>\n",
       "      <td>689</td>\n",
       "      <td>443</td>\n",
       "      <td>Theo Ratliff</td>\n",
       "      <td>1610612747</td>\n",
       "      <td>LAL</td>\n",
       "      <td>10</td>\n",
       "      <td>71</td>\n",
       "      <td>1</td>\n",
       "      <td>6</td>\n",
       "      <td>0.167</td>\n",
       "      <td>0</td>\n",
       "      <td>0</td>\n",
       "      <td>0.000</td>\n",
       "      <td>0</td>\n",
       "      <td>2</td>\n",
       "      <td>0.000</td>\n",
       "      <td>6</td>\n",
       "      <td>7</td>\n",
       "      <td>13</td>\n",
       "      <td>3</td>\n",
       "      <td>2</td>\n",
       "      <td>5</td>\n",
       "      <td>3</td>\n",
       "      <td>7</td>\n",
       "      <td>2</td>\n",
       "      <td>15</td>\n",
       "      <td>1.00</td>\n",
       "      <td>0.67</td>\n",
       "    </tr>\n",
       "    <tr>\n",
       "      <th>448</th>\n",
       "      <td>2010-11</td>\n",
       "      <td>Regular%20Season</td>\n",
       "      <td>2250</td>\n",
       "      <td>449</td>\n",
       "      <td>Bobby Simmons</td>\n",
       "      <td>1610612759</td>\n",
       "      <td>SAS</td>\n",
       "      <td>2</td>\n",
       "      <td>16</td>\n",
       "      <td>0</td>\n",
       "      <td>3</td>\n",
       "      <td>0.000</td>\n",
       "      <td>0</td>\n",
       "      <td>3</td>\n",
       "      <td>0.000</td>\n",
       "      <td>0</td>\n",
       "      <td>0</td>\n",
       "      <td>0.000</td>\n",
       "      <td>0</td>\n",
       "      <td>0</td>\n",
       "      <td>0</td>\n",
       "      <td>2</td>\n",
       "      <td>0</td>\n",
       "      <td>0</td>\n",
       "      <td>0</td>\n",
       "      <td>2</td>\n",
       "      <td>0</td>\n",
       "      <td>-1</td>\n",
       "      <td>0.00</td>\n",
       "      <td>0.00</td>\n",
       "    </tr>\n",
       "    <tr>\n",
       "      <th>449</th>\n",
       "      <td>2010-11</td>\n",
       "      <td>Regular%20Season</td>\n",
       "      <td>1730</td>\n",
       "      <td>449</td>\n",
       "      <td>Brian Skinner</td>\n",
       "      <td>1610612749</td>\n",
       "      <td>MIL</td>\n",
       "      <td>2</td>\n",
       "      <td>6</td>\n",
       "      <td>0</td>\n",
       "      <td>0</td>\n",
       "      <td>0.000</td>\n",
       "      <td>0</td>\n",
       "      <td>0</td>\n",
       "      <td>0.000</td>\n",
       "      <td>0</td>\n",
       "      <td>0</td>\n",
       "      <td>0.000</td>\n",
       "      <td>0</td>\n",
       "      <td>0</td>\n",
       "      <td>0</td>\n",
       "      <td>0</td>\n",
       "      <td>0</td>\n",
       "      <td>0</td>\n",
       "      <td>0</td>\n",
       "      <td>0</td>\n",
       "      <td>0</td>\n",
       "      <td>0</td>\n",
       "      <td>0.00</td>\n",
       "      <td>0.00</td>\n",
       "    </tr>\n",
       "    <tr>\n",
       "      <th>450</th>\n",
       "      <td>2010-11</td>\n",
       "      <td>Regular%20Season</td>\n",
       "      <td>202371</td>\n",
       "      <td>449</td>\n",
       "      <td>Gani Lawal</td>\n",
       "      <td>1610612756</td>\n",
       "      <td>PHX</td>\n",
       "      <td>1</td>\n",
       "      <td>2</td>\n",
       "      <td>0</td>\n",
       "      <td>0</td>\n",
       "      <td>0.000</td>\n",
       "      <td>0</td>\n",
       "      <td>0</td>\n",
       "      <td>0.000</td>\n",
       "      <td>0</td>\n",
       "      <td>0</td>\n",
       "      <td>0.000</td>\n",
       "      <td>0</td>\n",
       "      <td>0</td>\n",
       "      <td>0</td>\n",
       "      <td>0</td>\n",
       "      <td>0</td>\n",
       "      <td>0</td>\n",
       "      <td>0</td>\n",
       "      <td>1</td>\n",
       "      <td>0</td>\n",
       "      <td>0</td>\n",
       "      <td>0.00</td>\n",
       "      <td>0.00</td>\n",
       "    </tr>\n",
       "    <tr>\n",
       "      <th>451</th>\n",
       "      <td>2010-11</td>\n",
       "      <td>Regular%20Season</td>\n",
       "      <td>202355</td>\n",
       "      <td>449</td>\n",
       "      <td>Hassan Whiteside</td>\n",
       "      <td>1610612758</td>\n",
       "      <td>SAC</td>\n",
       "      <td>1</td>\n",
       "      <td>2</td>\n",
       "      <td>0</td>\n",
       "      <td>0</td>\n",
       "      <td>0.000</td>\n",
       "      <td>0</td>\n",
       "      <td>0</td>\n",
       "      <td>0.000</td>\n",
       "      <td>0</td>\n",
       "      <td>0</td>\n",
       "      <td>0.000</td>\n",
       "      <td>0</td>\n",
       "      <td>0</td>\n",
       "      <td>0</td>\n",
       "      <td>0</td>\n",
       "      <td>0</td>\n",
       "      <td>0</td>\n",
       "      <td>0</td>\n",
       "      <td>2</td>\n",
       "      <td>0</td>\n",
       "      <td>0</td>\n",
       "      <td>0.00</td>\n",
       "      <td>0.00</td>\n",
       "    </tr>\n",
       "  </tbody>\n",
       "</table>\n",
       "<p>452 rows × 30 columns</p>\n",
       "</div>"
      ],
      "text/plain": [
       "        Year       Season_type  PLAYER_ID  RANK             PLAYER  \\\n",
       "0    2010-11  Regular%20Season     201142     1       Kevin Durant   \n",
       "1    2010-11  Regular%20Season       2544     2       LeBron James   \n",
       "2    2010-11  Regular%20Season        977     3        Kobe Bryant   \n",
       "3    2010-11  Regular%20Season     201565     4       Derrick Rose   \n",
       "4    2010-11  Regular%20Season       2405     5  Amar'e Stoudemire   \n",
       "..       ...               ...        ...   ...                ...   \n",
       "447  2010-11  Regular%20Season        689   443       Theo Ratliff   \n",
       "448  2010-11  Regular%20Season       2250   449      Bobby Simmons   \n",
       "449  2010-11  Regular%20Season       1730   449      Brian Skinner   \n",
       "450  2010-11  Regular%20Season     202371   449         Gani Lawal   \n",
       "451  2010-11  Regular%20Season     202355   449   Hassan Whiteside   \n",
       "\n",
       "        TEAM_ID TEAM  GP   MIN  FGM   FGA  FG_PCT  FG3M  FG3A  FG3_PCT  FTM  \\\n",
       "0    1610612760  OKC  78  3038  711  1538   0.462   145   414    0.350  594   \n",
       "1    1610612748  MIA  79  3063  758  1485   0.510    92   279    0.330  503   \n",
       "2    1610612747  LAL  82  2779  740  1639   0.451   115   356    0.323  483   \n",
       "3    1610612741  CHI  81  3026  711  1597   0.445   128   385    0.332  476   \n",
       "4    1610612752  NYK  78  2870  744  1482   0.502    10    23    0.435  473   \n",
       "..          ...  ...  ..   ...  ...   ...     ...   ...   ...      ...  ...   \n",
       "447  1610612747  LAL  10    71    1     6   0.167     0     0    0.000    0   \n",
       "448  1610612759  SAS   2    16    0     3   0.000     0     3    0.000    0   \n",
       "449  1610612749  MIL   2     6    0     0   0.000     0     0    0.000    0   \n",
       "450  1610612756  PHX   1     2    0     0   0.000     0     0    0.000    0   \n",
       "451  1610612758  SAC   1     2    0     0   0.000     0     0    0.000    0   \n",
       "\n",
       "     FTA  FT_PCT  OREB  DREB  REB  AST  STL  BLK  TOV   PF   PTS   EFF  \\\n",
       "0    675   0.880    57   476  533  214   88   76  218  159  2161  1946   \n",
       "1    663   0.759    80   510  590  554  124   50  284  163  2111  2258   \n",
       "2    583   0.828    83   336  419  388   99   12  243  172  2078  1754   \n",
       "3    555   0.858    81   249  330  623   85   51  278  136  2026  1872   \n",
       "4    597   0.792   198   438  636  202   71  150  250  274  1971  1918   \n",
       "..   ...     ...   ...   ...  ...  ...  ...  ...  ...  ...   ...   ...   \n",
       "447    2   0.000     6     7   13    3    2    5    3    7     2    15   \n",
       "448    0   0.000     0     0    0    2    0    0    0    2     0    -1   \n",
       "449    0   0.000     0     0    0    0    0    0    0    0     0     0   \n",
       "450    0   0.000     0     0    0    0    0    0    0    1     0     0   \n",
       "451    0   0.000     0     0    0    0    0    0    0    2     0     0   \n",
       "\n",
       "     AST_TOV  STL_TOV  \n",
       "0       0.98     0.40  \n",
       "1       1.95     0.44  \n",
       "2       1.60     0.41  \n",
       "3       2.24     0.31  \n",
       "4       0.81     0.28  \n",
       "..       ...      ...  \n",
       "447     1.00     0.67  \n",
       "448     0.00     0.00  \n",
       "449     0.00     0.00  \n",
       "450     0.00     0.00  \n",
       "451     0.00     0.00  \n",
       "\n",
       "[452 rows x 30 columns]"
      ]
     },
     "execution_count": 85,
     "metadata": {},
     "output_type": "execute_result"
    }
   ],
   "source": [
    "temp_df1 = pd.DataFrame(r['resultSet']['rowSet'], columns = table_headers)\n",
    "temp_df2 = pd.DataFrame({'Year':['2010-11' for i in range(len(temp_df1))],\n",
    "                         'Season_type':['Regular%20Season' for i in range(len(temp_df1))]})\n",
    "temp_df3 = pd.concat([temp_df2,temp_df1], axis = 1)\n",
    "temp_df3"
   ]
  },
  {
   "cell_type": "code",
   "execution_count": 86,
   "metadata": {},
   "outputs": [],
   "source": [
    "del temp_df1, temp_df2, temp_df3"
   ]
  },
  {
   "cell_type": "code",
   "execution_count": 87,
   "metadata": {},
   "outputs": [],
   "source": [
    "df_cols =['Year','Season_type'] + table_headers"
   ]
  },
  {
   "cell_type": "code",
   "execution_count": 88,
   "metadata": {},
   "outputs": [
    {
     "data": {
      "text/html": [
       "<div>\n",
       "<style scoped>\n",
       "    .dataframe tbody tr th:only-of-type {\n",
       "        vertical-align: middle;\n",
       "    }\n",
       "\n",
       "    .dataframe tbody tr th {\n",
       "        vertical-align: top;\n",
       "    }\n",
       "\n",
       "    .dataframe thead th {\n",
       "        text-align: right;\n",
       "    }\n",
       "</style>\n",
       "<table border=\"1\" class=\"dataframe\">\n",
       "  <thead>\n",
       "    <tr style=\"text-align: right;\">\n",
       "      <th></th>\n",
       "      <th>Year</th>\n",
       "      <th>Season_type</th>\n",
       "      <th>PLAYER_ID</th>\n",
       "      <th>RANK</th>\n",
       "      <th>PLAYER</th>\n",
       "      <th>TEAM_ID</th>\n",
       "      <th>TEAM</th>\n",
       "      <th>GP</th>\n",
       "      <th>MIN</th>\n",
       "      <th>FGM</th>\n",
       "      <th>FGA</th>\n",
       "      <th>FG_PCT</th>\n",
       "      <th>FG3M</th>\n",
       "      <th>FG3A</th>\n",
       "      <th>FG3_PCT</th>\n",
       "      <th>FTM</th>\n",
       "      <th>FTA</th>\n",
       "      <th>FT_PCT</th>\n",
       "      <th>OREB</th>\n",
       "      <th>DREB</th>\n",
       "      <th>REB</th>\n",
       "      <th>AST</th>\n",
       "      <th>STL</th>\n",
       "      <th>BLK</th>\n",
       "      <th>TOV</th>\n",
       "      <th>PF</th>\n",
       "      <th>PTS</th>\n",
       "      <th>EFF</th>\n",
       "      <th>AST_TOV</th>\n",
       "      <th>STL_TOV</th>\n",
       "    </tr>\n",
       "  </thead>\n",
       "  <tbody>\n",
       "  </tbody>\n",
       "</table>\n",
       "</div>"
      ],
      "text/plain": [
       "Empty DataFrame\n",
       "Columns: [Year, Season_type, PLAYER_ID, RANK, PLAYER, TEAM_ID, TEAM, GP, MIN, FGM, FGA, FG_PCT, FG3M, FG3A, FG3_PCT, FTM, FTA, FT_PCT, OREB, DREB, REB, AST, STL, BLK, TOV, PF, PTS, EFF, AST_TOV, STL_TOV]\n",
       "Index: []"
      ]
     },
     "execution_count": 88,
     "metadata": {},
     "output_type": "execute_result"
    }
   ],
   "source": [
    "pd.DataFrame(columns= df_cols)"
   ]
  },
  {
   "cell_type": "code",
   "execution_count": 89,
   "metadata": {},
   "outputs": [],
   "source": [
    "headers = {\n",
    "    'Accept': '*/*',\n",
    "    'Accept-Encoding': 'gzip, deflate, br',\n",
    "    'Accept-Language': 'en-US,en;q=0.9',\n",
    "    'Connection': 'keep-alive',\n",
    "    'Host': 'stats.nba.com',\n",
    "    'Origin': 'https://www.nba.com',\n",
    "    'Referer': 'https://www.nba.com/',\n",
    "    'Sec-Ch-Ua': '\"Google Chrome\";v=\"119\", \"Chromium\";v=\"119\", \"Not?A_Brand\";v=\"24\"',\n",
    "    'Sec-Ch-Ua-Mobile': '?0',\n",
    "    'Sec-Ch-Ua-Platform': '\"macOS\"',\n",
    "    'Sec-Fetch-Dest': 'empty',\n",
    "    'Sec-Fetch-Mode': 'cors',\n",
    "    'Sec-Fetch-Site': 'same-site',\n",
    "    'User-Agent': 'Mozilla/5.0 (Macintosh; Intel Mac OS X 10_15_7) AppleWebKit/537.36 (KHTML, like Gecko) Chrome/119.0.0.0 Safari/537.36'   \n",
    "}"
   ]
  },
  {
   "cell_type": "code",
   "execution_count": 90,
   "metadata": {},
   "outputs": [
    {
     "name": "stdout",
     "output_type": "stream",
     "text": [
      "Finished scraping data for 2010-11 Regular%20Season.\n",
      "...waiting 4.4 seconds\n"
     ]
    },
    {
     "name": "stdout",
     "output_type": "stream",
     "text": [
      "Finished scraping data for 2010-11 Playoffs.\n",
      "...waiting 5.0 seconds\n",
      "Finished scraping data for 2011-12 Regular%20Season.\n",
      "...waiting 3.1 seconds\n",
      "Finished scraping data for 2011-12 Playoffs.\n",
      "...waiting 4.1 seconds\n",
      "Finished scraping data for 2012-13 Regular%20Season.\n",
      "...waiting 4.2 seconds\n",
      "Finished scraping data for 2012-13 Playoffs.\n",
      "...waiting 4.7 seconds\n",
      "Finished scraping data for 2013-14 Regular%20Season.\n",
      "...waiting 4.0 seconds\n",
      "Finished scraping data for 2013-14 Playoffs.\n",
      "...waiting 4.6 seconds\n",
      "Finished scraping data for 2014-15 Regular%20Season.\n",
      "...waiting 2.4 seconds\n",
      "Finished scraping data for 2014-15 Playoffs.\n",
      "...waiting 3.1 seconds\n",
      "Finished scraping data for 2015-16 Regular%20Season.\n",
      "...waiting 2.6 seconds\n",
      "Finished scraping data for 2015-16 Playoffs.\n",
      "...waiting 2.5 seconds\n",
      "Finished scraping data for 2016-17 Regular%20Season.\n",
      "...waiting 3.5 seconds\n",
      "Finished scraping data for 2016-17 Playoffs.\n",
      "...waiting 4.8 seconds\n",
      "Finished scraping data for 2017-18 Regular%20Season.\n",
      "...waiting 3.7 seconds\n",
      "Finished scraping data for 2017-18 Playoffs.\n",
      "...waiting 3.4 seconds\n",
      "Finished scraping data for 2018-19 Regular%20Season.\n",
      "...waiting 3.4 seconds\n",
      "Finished scraping data for 2018-19 Playoffs.\n",
      "...waiting 4.2 seconds\n",
      "Finished scraping data for 2019-20 Regular%20Season.\n",
      "...waiting 4.1 seconds\n",
      "Finished scraping data for 2019-20 Playoffs.\n",
      "...waiting 2.8 seconds\n",
      "Finished scraping data for 2020-21 Regular%20Season.\n",
      "...waiting 4.3 seconds\n",
      "Finished scraping data for 2020-21 Playoffs.\n",
      "...waiting 3.2 seconds\n",
      "Process completed. Total run time: 1.49\n"
     ]
    }
   ],
   "source": [
    "df = pd.DataFrame(columns= df_cols)\n",
    "season_types = ['Regular%20Season','Playoffs']\n",
    "years = ['2010-11','2011-12','2012-13','2013-14','2014-15','2015-16','2016-17','2017-18','2018-19','2019-20','2020-21']\n",
    "\n",
    "begin_loop = time.time()\n",
    "\n",
    "for y in years:\n",
    "    for s in season_types:\n",
    "        api_url = 'https://stats.nba.com/stats/leagueLeaders?LeagueID=00&PerMode=Totals&Scope=S&Season='+y+'&SeasonType='+s+'&StatCategory=PTS'\n",
    "        r = requests.get(url=api_url).json()\n",
    "        temp_df1 = pd.DataFrame(r['resultSet']['rowSet'], columns = table_headers)\n",
    "        temp_df2 = pd.DataFrame({'Year':[y for i in range(len(temp_df1))],\n",
    "                                'Season_type':[s for i in range(len(temp_df1))]})\n",
    "        temp_df3 = pd.concat([temp_df2,temp_df1], axis = 1)\n",
    "        df = pd.concat([df, temp_df3], axis = 0)\n",
    "        print(f'Finished scraping data for {y} {s}.')\n",
    "        lag = np.random.uniform(low = 2,high = 5)\n",
    "        print(f'...waiting {round(lag,1)} seconds')\n",
    "        time.sleep(lag)\n",
    "print(f'Process completed. Total run time: {round((time.time()-begin_loop)/60,2)}')\n",
    "df.to_csv('nba_player_data.csv', index = False)\n"
   ]
  },
  {
   "cell_type": "code",
   "execution_count": 91,
   "metadata": {},
   "outputs": [
    {
     "data": {
      "text/html": [
       "<div>\n",
       "<style scoped>\n",
       "    .dataframe tbody tr th:only-of-type {\n",
       "        vertical-align: middle;\n",
       "    }\n",
       "\n",
       "    .dataframe tbody tr th {\n",
       "        vertical-align: top;\n",
       "    }\n",
       "\n",
       "    .dataframe thead th {\n",
       "        text-align: right;\n",
       "    }\n",
       "</style>\n",
       "<table border=\"1\" class=\"dataframe\">\n",
       "  <thead>\n",
       "    <tr style=\"text-align: right;\">\n",
       "      <th></th>\n",
       "      <th>Year</th>\n",
       "      <th>Season_type</th>\n",
       "      <th>PLAYER_ID</th>\n",
       "      <th>RANK</th>\n",
       "      <th>PLAYER</th>\n",
       "      <th>TEAM_ID</th>\n",
       "      <th>TEAM</th>\n",
       "      <th>GP</th>\n",
       "      <th>MIN</th>\n",
       "      <th>FGM</th>\n",
       "      <th>FGA</th>\n",
       "      <th>FG_PCT</th>\n",
       "      <th>FG3M</th>\n",
       "      <th>FG3A</th>\n",
       "      <th>FG3_PCT</th>\n",
       "      <th>FTM</th>\n",
       "      <th>FTA</th>\n",
       "      <th>FT_PCT</th>\n",
       "      <th>OREB</th>\n",
       "      <th>DREB</th>\n",
       "      <th>REB</th>\n",
       "      <th>AST</th>\n",
       "      <th>STL</th>\n",
       "      <th>BLK</th>\n",
       "      <th>TOV</th>\n",
       "      <th>PF</th>\n",
       "      <th>PTS</th>\n",
       "      <th>EFF</th>\n",
       "      <th>AST_TOV</th>\n",
       "      <th>STL_TOV</th>\n",
       "    </tr>\n",
       "  </thead>\n",
       "  <tbody>\n",
       "    <tr>\n",
       "      <th>2450</th>\n",
       "      <td>2013-14</td>\n",
       "      <td>Regular%20Season</td>\n",
       "      <td>2248</td>\n",
       "      <td>449</td>\n",
       "      <td>Earl Watson</td>\n",
       "      <td>1610612757</td>\n",
       "      <td>POR</td>\n",
       "      <td>24</td>\n",
       "      <td>161</td>\n",
       "      <td>3</td>\n",
       "      <td>11</td>\n",
       "      <td>0.273</td>\n",
       "      <td>2</td>\n",
       "      <td>7</td>\n",
       "      <td>0.286</td>\n",
       "      <td>4</td>\n",
       "      <td>4</td>\n",
       "      <td>1.000</td>\n",
       "      <td>5</td>\n",
       "      <td>10</td>\n",
       "      <td>15</td>\n",
       "      <td>28</td>\n",
       "      <td>5</td>\n",
       "      <td>1</td>\n",
       "      <td>17</td>\n",
       "      <td>33</td>\n",
       "      <td>12</td>\n",
       "      <td>36</td>\n",
       "      <td>1.65</td>\n",
       "      <td>0.29</td>\n",
       "    </tr>\n",
       "    <tr>\n",
       "      <th>6665</th>\n",
       "      <td>2019-20</td>\n",
       "      <td>Regular%20Season</td>\n",
       "      <td>200757</td>\n",
       "      <td>395</td>\n",
       "      <td>Thabo Sefolosha</td>\n",
       "      <td>1610612745</td>\n",
       "      <td>HOU</td>\n",
       "      <td>41</td>\n",
       "      <td>436</td>\n",
       "      <td>37</td>\n",
       "      <td>91</td>\n",
       "      <td>0.407</td>\n",
       "      <td>15</td>\n",
       "      <td>54</td>\n",
       "      <td>0.278</td>\n",
       "      <td>3</td>\n",
       "      <td>8</td>\n",
       "      <td>0.375</td>\n",
       "      <td>21</td>\n",
       "      <td>72</td>\n",
       "      <td>93</td>\n",
       "      <td>25</td>\n",
       "      <td>24</td>\n",
       "      <td>12</td>\n",
       "      <td>15</td>\n",
       "      <td>43</td>\n",
       "      <td>92</td>\n",
       "      <td>172</td>\n",
       "      <td>1.67</td>\n",
       "      <td>1.60</td>\n",
       "    </tr>\n",
       "    <tr>\n",
       "      <th>3096</th>\n",
       "      <td>2014-15</td>\n",
       "      <td>Regular%20Season</td>\n",
       "      <td>200779</td>\n",
       "      <td>410</td>\n",
       "      <td>Steve Novak</td>\n",
       "      <td>1610612760</td>\n",
       "      <td>OKC</td>\n",
       "      <td>35</td>\n",
       "      <td>197</td>\n",
       "      <td>22</td>\n",
       "      <td>56</td>\n",
       "      <td>0.393</td>\n",
       "      <td>19</td>\n",
       "      <td>48</td>\n",
       "      <td>0.396</td>\n",
       "      <td>0</td>\n",
       "      <td>2</td>\n",
       "      <td>0.000</td>\n",
       "      <td>2</td>\n",
       "      <td>20</td>\n",
       "      <td>22</td>\n",
       "      <td>11</td>\n",
       "      <td>0</td>\n",
       "      <td>2</td>\n",
       "      <td>5</td>\n",
       "      <td>23</td>\n",
       "      <td>63</td>\n",
       "      <td>57</td>\n",
       "      <td>2.20</td>\n",
       "      <td>0.00</td>\n",
       "    </tr>\n",
       "    <tr>\n",
       "      <th>5198</th>\n",
       "      <td>2017-18</td>\n",
       "      <td>Regular%20Season</td>\n",
       "      <td>202697</td>\n",
       "      <td>420</td>\n",
       "      <td>Iman Shumpert</td>\n",
       "      <td>1610612758</td>\n",
       "      <td>SAC</td>\n",
       "      <td>14</td>\n",
       "      <td>276</td>\n",
       "      <td>22</td>\n",
       "      <td>58</td>\n",
       "      <td>0.379</td>\n",
       "      <td>7</td>\n",
       "      <td>26</td>\n",
       "      <td>0.269</td>\n",
       "      <td>11</td>\n",
       "      <td>15</td>\n",
       "      <td>0.733</td>\n",
       "      <td>7</td>\n",
       "      <td>34</td>\n",
       "      <td>41</td>\n",
       "      <td>17</td>\n",
       "      <td>9</td>\n",
       "      <td>4</td>\n",
       "      <td>16</td>\n",
       "      <td>22</td>\n",
       "      <td>62</td>\n",
       "      <td>77</td>\n",
       "      <td>1.06</td>\n",
       "      <td>0.56</td>\n",
       "    </tr>\n",
       "    <tr>\n",
       "      <th>4472</th>\n",
       "      <td>2016-17</td>\n",
       "      <td>Regular%20Season</td>\n",
       "      <td>202713</td>\n",
       "      <td>395</td>\n",
       "      <td>Kyle Singler</td>\n",
       "      <td>1610612760</td>\n",
       "      <td>OKC</td>\n",
       "      <td>32</td>\n",
       "      <td>385</td>\n",
       "      <td>34</td>\n",
       "      <td>83</td>\n",
       "      <td>0.410</td>\n",
       "      <td>7</td>\n",
       "      <td>37</td>\n",
       "      <td>0.189</td>\n",
       "      <td>13</td>\n",
       "      <td>17</td>\n",
       "      <td>0.765</td>\n",
       "      <td>8</td>\n",
       "      <td>40</td>\n",
       "      <td>48</td>\n",
       "      <td>9</td>\n",
       "      <td>7</td>\n",
       "      <td>5</td>\n",
       "      <td>11</td>\n",
       "      <td>29</td>\n",
       "      <td>88</td>\n",
       "      <td>93</td>\n",
       "      <td>0.82</td>\n",
       "      <td>0.64</td>\n",
       "    </tr>\n",
       "    <tr>\n",
       "      <th>2230</th>\n",
       "      <td>2013-14</td>\n",
       "      <td>Regular%20Season</td>\n",
       "      <td>965</td>\n",
       "      <td>229</td>\n",
       "      <td>Derek Fisher</td>\n",
       "      <td>1610612760</td>\n",
       "      <td>OKC</td>\n",
       "      <td>81</td>\n",
       "      <td>1428</td>\n",
       "      <td>141</td>\n",
       "      <td>361</td>\n",
       "      <td>0.391</td>\n",
       "      <td>88</td>\n",
       "      <td>229</td>\n",
       "      <td>0.384</td>\n",
       "      <td>55</td>\n",
       "      <td>71</td>\n",
       "      <td>0.775</td>\n",
       "      <td>12</td>\n",
       "      <td>110</td>\n",
       "      <td>122</td>\n",
       "      <td>117</td>\n",
       "      <td>70</td>\n",
       "      <td>3</td>\n",
       "      <td>49</td>\n",
       "      <td>157</td>\n",
       "      <td>425</td>\n",
       "      <td>452</td>\n",
       "      <td>2.39</td>\n",
       "      <td>1.43</td>\n",
       "    </tr>\n",
       "    <tr>\n",
       "      <th>3176</th>\n",
       "      <td>2014-15</td>\n",
       "      <td>Regular%20Season</td>\n",
       "      <td>202723</td>\n",
       "      <td>487</td>\n",
       "      <td>Malcolm Lee</td>\n",
       "      <td>1610612755</td>\n",
       "      <td>PHI</td>\n",
       "      <td>1</td>\n",
       "      <td>2</td>\n",
       "      <td>0</td>\n",
       "      <td>1</td>\n",
       "      <td>0.000</td>\n",
       "      <td>0</td>\n",
       "      <td>0</td>\n",
       "      <td>0.000</td>\n",
       "      <td>0</td>\n",
       "      <td>0</td>\n",
       "      <td>0.000</td>\n",
       "      <td>0</td>\n",
       "      <td>0</td>\n",
       "      <td>0</td>\n",
       "      <td>0</td>\n",
       "      <td>0</td>\n",
       "      <td>0</td>\n",
       "      <td>0</td>\n",
       "      <td>0</td>\n",
       "      <td>0</td>\n",
       "      <td>-1</td>\n",
       "      <td>0.00</td>\n",
       "      <td>0.00</td>\n",
       "    </tr>\n",
       "    <tr>\n",
       "      <th>2545</th>\n",
       "      <td>2013-14</td>\n",
       "      <td>Playoffs</td>\n",
       "      <td>203141</td>\n",
       "      <td>62</td>\n",
       "      <td>Mirza Teletovic</td>\n",
       "      <td>1610612751</td>\n",
       "      <td>BKN</td>\n",
       "      <td>12</td>\n",
       "      <td>220</td>\n",
       "      <td>36</td>\n",
       "      <td>82</td>\n",
       "      <td>0.439</td>\n",
       "      <td>19</td>\n",
       "      <td>56</td>\n",
       "      <td>0.339</td>\n",
       "      <td>8</td>\n",
       "      <td>12</td>\n",
       "      <td>0.667</td>\n",
       "      <td>15</td>\n",
       "      <td>25</td>\n",
       "      <td>40</td>\n",
       "      <td>3</td>\n",
       "      <td>5</td>\n",
       "      <td>2</td>\n",
       "      <td>5</td>\n",
       "      <td>14</td>\n",
       "      <td>99</td>\n",
       "      <td>94</td>\n",
       "      <td>0.60</td>\n",
       "      <td>1.00</td>\n",
       "    </tr>\n",
       "    <tr>\n",
       "      <th>4185</th>\n",
       "      <td>2016-17</td>\n",
       "      <td>Regular%20Season</td>\n",
       "      <td>201584</td>\n",
       "      <td>108</td>\n",
       "      <td>Courtney Lee</td>\n",
       "      <td>1610612752</td>\n",
       "      <td>NYK</td>\n",
       "      <td>77</td>\n",
       "      <td>2459</td>\n",
       "      <td>321</td>\n",
       "      <td>704</td>\n",
       "      <td>0.456</td>\n",
       "      <td>108</td>\n",
       "      <td>269</td>\n",
       "      <td>0.401</td>\n",
       "      <td>85</td>\n",
       "      <td>98</td>\n",
       "      <td>0.867</td>\n",
       "      <td>53</td>\n",
       "      <td>206</td>\n",
       "      <td>259</td>\n",
       "      <td>179</td>\n",
       "      <td>81</td>\n",
       "      <td>24</td>\n",
       "      <td>69</td>\n",
       "      <td>141</td>\n",
       "      <td>835</td>\n",
       "      <td>913</td>\n",
       "      <td>2.59</td>\n",
       "      <td>1.17</td>\n",
       "    </tr>\n",
       "    <tr>\n",
       "      <th>2342</th>\n",
       "      <td>2013-14</td>\n",
       "      <td>Regular%20Season</td>\n",
       "      <td>202705</td>\n",
       "      <td>337</td>\n",
       "      <td>MarShon Brooks</td>\n",
       "      <td>1610612747</td>\n",
       "      <td>LAL</td>\n",
       "      <td>35</td>\n",
       "      <td>317</td>\n",
       "      <td>57</td>\n",
       "      <td>125</td>\n",
       "      <td>0.456</td>\n",
       "      <td>13</td>\n",
       "      <td>25</td>\n",
       "      <td>0.520</td>\n",
       "      <td>32</td>\n",
       "      <td>44</td>\n",
       "      <td>0.727</td>\n",
       "      <td>10</td>\n",
       "      <td>44</td>\n",
       "      <td>54</td>\n",
       "      <td>25</td>\n",
       "      <td>14</td>\n",
       "      <td>4</td>\n",
       "      <td>24</td>\n",
       "      <td>21</td>\n",
       "      <td>159</td>\n",
       "      <td>152</td>\n",
       "      <td>1.04</td>\n",
       "      <td>0.58</td>\n",
       "    </tr>\n",
       "  </tbody>\n",
       "</table>\n",
       "</div>"
      ],
      "text/plain": [
       "         Year       Season_type  PLAYER_ID  RANK           PLAYER     TEAM_ID  \\\n",
       "2450  2013-14  Regular%20Season       2248   449      Earl Watson  1610612757   \n",
       "6665  2019-20  Regular%20Season     200757   395  Thabo Sefolosha  1610612745   \n",
       "3096  2014-15  Regular%20Season     200779   410      Steve Novak  1610612760   \n",
       "5198  2017-18  Regular%20Season     202697   420    Iman Shumpert  1610612758   \n",
       "4472  2016-17  Regular%20Season     202713   395     Kyle Singler  1610612760   \n",
       "2230  2013-14  Regular%20Season        965   229     Derek Fisher  1610612760   \n",
       "3176  2014-15  Regular%20Season     202723   487      Malcolm Lee  1610612755   \n",
       "2545  2013-14          Playoffs     203141    62  Mirza Teletovic  1610612751   \n",
       "4185  2016-17  Regular%20Season     201584   108     Courtney Lee  1610612752   \n",
       "2342  2013-14  Regular%20Season     202705   337   MarShon Brooks  1610612747   \n",
       "\n",
       "     TEAM  GP   MIN  FGM  FGA  FG_PCT  FG3M  FG3A  FG3_PCT  FTM  FTA  FT_PCT  \\\n",
       "2450  POR  24   161    3   11   0.273     2     7    0.286    4    4   1.000   \n",
       "6665  HOU  41   436   37   91   0.407    15    54    0.278    3    8   0.375   \n",
       "3096  OKC  35   197   22   56   0.393    19    48    0.396    0    2   0.000   \n",
       "5198  SAC  14   276   22   58   0.379     7    26    0.269   11   15   0.733   \n",
       "4472  OKC  32   385   34   83   0.410     7    37    0.189   13   17   0.765   \n",
       "2230  OKC  81  1428  141  361   0.391    88   229    0.384   55   71   0.775   \n",
       "3176  PHI   1     2    0    1   0.000     0     0    0.000    0    0   0.000   \n",
       "2545  BKN  12   220   36   82   0.439    19    56    0.339    8   12   0.667   \n",
       "4185  NYK  77  2459  321  704   0.456   108   269    0.401   85   98   0.867   \n",
       "2342  LAL  35   317   57  125   0.456    13    25    0.520   32   44   0.727   \n",
       "\n",
       "      OREB  DREB  REB  AST  STL  BLK  TOV   PF  PTS  EFF  AST_TOV  STL_TOV  \n",
       "2450     5    10   15   28    5    1   17   33   12   36     1.65     0.29  \n",
       "6665    21    72   93   25   24   12   15   43   92  172     1.67     1.60  \n",
       "3096     2    20   22   11    0    2    5   23   63   57     2.20     0.00  \n",
       "5198     7    34   41   17    9    4   16   22   62   77     1.06     0.56  \n",
       "4472     8    40   48    9    7    5   11   29   88   93     0.82     0.64  \n",
       "2230    12   110  122  117   70    3   49  157  425  452     2.39     1.43  \n",
       "3176     0     0    0    0    0    0    0    0    0   -1     0.00     0.00  \n",
       "2545    15    25   40    3    5    2    5   14   99   94     0.60     1.00  \n",
       "4185    53   206  259  179   81   24   69  141  835  913     2.59     1.17  \n",
       "2342    10    44   54   25   14    4   24   21  159  152     1.04     0.58  "
      ]
     },
     "execution_count": 91,
     "metadata": {},
     "output_type": "execute_result"
    }
   ],
   "source": [
    "data  = pd.read_csv('nba_player_data.csv')\n",
    "data.sample(10)"
   ]
  },
  {
   "cell_type": "code",
   "execution_count": null,
   "metadata": {},
   "outputs": [],
   "source": []
  },
  {
   "cell_type": "code",
   "execution_count": 92,
   "metadata": {},
   "outputs": [],
   "source": [
    "# Data Cleaning"
   ]
  },
  {
   "cell_type": "code",
   "execution_count": 93,
   "metadata": {},
   "outputs": [
    {
     "data": {
      "text/plain": [
       "Year           0\n",
       "Season_type    0\n",
       "PLAYER_ID      0\n",
       "RANK           0\n",
       "PLAYER         0\n",
       "TEAM_ID        0\n",
       "TEAM           0\n",
       "GP             0\n",
       "MIN            0\n",
       "FGM            0\n",
       "FGA            0\n",
       "FG_PCT         0\n",
       "FG3M           0\n",
       "FG3A           0\n",
       "FG3_PCT        0\n",
       "FTM            0\n",
       "FTA            0\n",
       "FT_PCT         0\n",
       "OREB           0\n",
       "DREB           0\n",
       "REB            0\n",
       "AST            0\n",
       "STL            0\n",
       "BLK            0\n",
       "TOV            0\n",
       "PF             0\n",
       "PTS            0\n",
       "EFF            0\n",
       "AST_TOV        0\n",
       "STL_TOV        0\n",
       "dtype: int64"
      ]
     },
     "execution_count": 93,
     "metadata": {},
     "output_type": "execute_result"
    }
   ],
   "source": [
    "data.isna().sum()"
   ]
  },
  {
   "cell_type": "code",
   "execution_count": 94,
   "metadata": {},
   "outputs": [],
   "source": [
    "#drop usless columns\n",
    "data.drop(columns=['RANK', 'EFF'], inplace=True)"
   ]
  },
  {
   "cell_type": "code",
   "execution_count": 95,
   "metadata": {},
   "outputs": [],
   "source": [
    "#change format of season year\n",
    "data['season_start_year'] = data['Year'].str[:4].astype(int)"
   ]
  },
  {
   "cell_type": "code",
   "execution_count": 96,
   "metadata": {},
   "outputs": [
    {
     "data": {
      "text/plain": [
       "array(['OKC', 'MIA', 'LAL', 'CHI', 'NYK', 'GSW', 'HOU', 'LAC', 'ORL',\n",
       "       'POR', 'DAL', 'NJN', 'IND', 'UTA', 'BOS', 'MEM', 'MIN', 'TOR',\n",
       "       'SAS', 'NOH', 'ATL', 'CHA', 'PHI', 'DEN', 'SAC', 'WAS', 'PHX',\n",
       "       'CLE', 'DET', 'MIL', 'BKN', 'NOP'], dtype=object)"
      ]
     },
     "execution_count": 96,
     "metadata": {},
     "output_type": "execute_result"
    }
   ],
   "source": [
    "data.TEAM.unique()"
   ]
  },
  {
   "cell_type": "code",
   "execution_count": 97,
   "metadata": {},
   "outputs": [],
   "source": [
    "#Teams that changed names need the info combinded\n",
    "data['TEAM'].replace(to_replace=['NOP','NOH'], value = 'NO', inplace=True)"
   ]
  },
  {
   "cell_type": "code",
   "execution_count": 98,
   "metadata": {},
   "outputs": [],
   "source": [
    "#readability of season type fix\n",
    "data['Season_type'].replace('Regular%20Season', 'Regular Season', inplace=True)"
   ]
  },
  {
   "cell_type": "code",
   "execution_count": 99,
   "metadata": {},
   "outputs": [],
   "source": [
    "regular_df = data[data['Season_type'] == 'Regular Season']\n",
    "playoffs_df = data[data['Season_type'] == 'Playoffs']"
   ]
  },
  {
   "cell_type": "code",
   "execution_count": 100,
   "metadata": {},
   "outputs": [
    {
     "data": {
      "text/plain": [
       "Index(['Year', 'Season_type', 'PLAYER_ID', 'PLAYER', 'TEAM_ID', 'TEAM', 'GP',\n",
       "       'MIN', 'FGM', 'FGA', 'FG_PCT', 'FG3M', 'FG3A', 'FG3_PCT', 'FTM', 'FTA',\n",
       "       'FT_PCT', 'OREB', 'DREB', 'REB', 'AST', 'STL', 'BLK', 'TOV', 'PF',\n",
       "       'PTS', 'AST_TOV', 'STL_TOV', 'season_start_year'],\n",
       "      dtype='object')"
      ]
     },
     "execution_count": 100,
     "metadata": {},
     "output_type": "execute_result"
    }
   ],
   "source": [
    "data.columns"
   ]
  },
  {
   "cell_type": "code",
   "execution_count": 101,
   "metadata": {},
   "outputs": [],
   "source": [
    "#columns we can take the sum of\n",
    "total_cols = ['MIN', 'FGM', 'FGA', 'FG3M', 'FG3A', 'FTM', 'FTA', \n",
    "              'OREB', 'DREB', 'REB', 'AST', 'STL', 'BLK', 'TOV', 'PF','PTS']"
   ]
  },
  {
   "cell_type": "code",
   "execution_count": null,
   "metadata": {},
   "outputs": [],
   "source": []
  },
  {
   "cell_type": "code",
   "execution_count": 102,
   "metadata": {},
   "outputs": [],
   "source": [
    "# Correlation of player stats"
   ]
  },
  {
   "cell_type": "code",
   "execution_count": 104,
   "metadata": {},
   "outputs": [
    {
     "name": "stderr",
     "output_type": "stream",
     "text": [
      "/var/folders/rk/1p2ppm8d0jl3k50ws1d0l37h0000gn/T/ipykernel_37249/3709229874.py:20: FutureWarning:\n",
      "\n",
      "The default value of numeric_only in DataFrame.corr is deprecated. In a future version, it will default to False. Select only valid columns or specify the value of numeric_only to silence this warning.\n",
      "\n"
     ]
    },
    {
     "data": {
      "application/vnd.plotly.v1+json": {
       "config": {
        "plotlyServerURL": "https://plot.ly"
       },
       "data": [
        {
         "coloraxis": "coloraxis",
         "hovertemplate": "x: %{x}<br>y: %{y}<br>color: %{z}<extra></extra>",
         "name": "0",
         "type": "heatmap",
         "x": [
          "MIN",
          "FGM",
          "FGA",
          "FG3M",
          "FG3A",
          "FTM",
          "FTA",
          "OREB",
          "DREB",
          "REB",
          "AST",
          "STL",
          "BLK",
          "TOV",
          "PF",
          "PTS",
          "FG%",
          "3PT%",
          "FT%",
          "FG3A%",
          "PTS/FGA",
          "FG3M/FGM",
          "FTA/FGA",
          "TRU%",
          "AST_TOV"
         ],
         "xaxis": "x",
         "y": [
          "MIN",
          "FGM",
          "FGA",
          "FG3M",
          "FG3A",
          "FTM",
          "FTA",
          "OREB",
          "DREB",
          "REB",
          "AST",
          "STL",
          "BLK",
          "TOV",
          "PF",
          "PTS",
          "FG%",
          "3PT%",
          "FT%",
          "FG3A%",
          "PTS/FGA",
          "FG3M/FGM",
          "FTA/FGA",
          "TRU%",
          "AST_TOV"
         ],
         "yaxis": "y",
         "z": [
          [
           1,
           0.44218844485198133,
           0.34943185678229605,
           0.1687627542679294,
           0.09220998561926255,
           0.3517748248854367,
           0.2775824196103323,
           -0.10076307272820177,
           0.04185125753987709,
           -0.01555930201867957,
           0.24059283539340057,
           0.07423270945527399,
           -0.05982710570050795,
           0.11783186615292347,
           -0.40081014884553356,
           0.4678982160074675,
           0.22890191987101882,
           0.15467932900179554,
           0.26645885663591434,
           -0.012977711977109351,
           0.2830788531142265,
           0.013176018008815696,
           0.016769950721114618,
           0.35911268168959265,
           0.11557157727398154
          ],
          [
           0.44218844485198133,
           1,
           0.8794203899008785,
           0.18751538364384437,
           0.13875084595239473,
           0.598269693721188,
           0.5469803122151395,
           0.06378548880645803,
           0.1968762451357134,
           0.15673751387479448,
           0.21098576909380057,
           -0.007181269583109074,
           0.04639576540804718,
           0.3673166813285029,
           -0.2266596918518015,
           0.9561718508216227,
           0.3942112031508376,
           0.10067271599701653,
           0.25397293140166427,
           -0.18467549917431558,
           0.32873597426299545,
           -0.17675660369996637,
           -0.0015310592562877523,
           0.4244471746337242,
           -0.06390780781622889
          ],
          [
           0.34943185678229605,
           0.8794203899008785,
           1,
           0.39976578487372555,
           0.41787033856022426,
           0.5426107667558685,
           0.44728421208345037,
           -0.2136122892255107,
           -0.030208704199485528,
           -0.11119428624074439,
           0.3204666434871033,
           0.04092908116728912,
           -0.1819337924866106,
           0.39952905465857436,
           -0.34565041357248416,
           0.897989797050839,
           -0.06492125760895343,
           0.1653140238258945,
           0.34449435189523514,
           0.07363743309098192,
           -0.029878924024987843,
           0.0613188664512769,
           -0.16496944530621,
           0.06303817188091056,
           0.054958477074601116
          ],
          [
           0.1687627542679294,
           0.18751538364384437,
           0.39976578487372555,
           1,
           0.9604879398017612,
           -0.0312897445343784,
           -0.17476288845728227,
           -0.6240081467603847,
           -0.39038423578394793,
           -0.5235095161931176,
           0.1846092403251681,
           0.02387511957869416,
           -0.44317284353420505,
           -0.06989919811674805,
           -0.3888442433317751,
           0.35095123726194893,
           -0.35139181936476876,
           0.5881875574021623,
           0.3993709355280646,
           0.8595715235526136,
           -0.0529230167510093,
           0.8795065479103195,
           -0.3967282922745144,
           0.1732510293580706,
           0.2739293302675587
          ],
          [
           0.09220998561926255,
           0.13875084595239473,
           0.41787033856022426,
           0.9604879398017612,
           1,
           -0.04594057003059999,
           -0.18678159158657595,
           -0.6579851615176187,
           -0.4170634396426108,
           -0.5555805468316913,
           0.20654732016984748,
           0.053402684503009765,
           -0.4700303245327609,
           -0.04546186545831839,
           -0.3878952125047519,
           0.3019054485878181,
           -0.47723267702375066,
           0.4891494478995437,
           0.3779157579627383,
           0.8988266725805669,
           -0.1864431398895737,
           0.8666485242308958,
           -0.42064470724729724,
           0.012005189169690834,
           0.29197283945569635
          ],
          [
           0.3517748248854367,
           0.598269693721188,
           0.5426107667558685,
           -0.0312897445343784,
           -0.04594057003059999,
           1,
           0.949533356669849,
           0.09519316908630798,
           0.1683544459371142,
           0.1514097178235832,
           0.2312129518173059,
           0.041265501053551173,
           0.053580112691691335,
           0.4400490052671927,
           -0.11824110120496684,
           0.7316244235236569,
           0.20510583321925918,
           -0.013945094781468758,
           0.30142960405048613,
           -0.26955192372983,
           0.4949606044371849,
           -0.2671618250097335,
           0.5729180957603506,
           0.29851033344326117,
           -0.09033553357776461
          ],
          [
           0.2775824196103323,
           0.5469803122151395,
           0.44728421208345037,
           -0.17476288845728227,
           -0.18678159158657595,
           0.949533356669849,
           1,
           0.2502075550525982,
           0.2734104996752303,
           0.2867705427466451,
           0.14689927637625785,
           0.04082394735106728,
           0.16915146399246303,
           0.44065568632356894,
           -0.008105955328220818,
           0.6469343743035924,
           0.2855321869402491,
           -0.11062592589640415,
           0.04603186558327891,
           -0.39351811172465306,
           0.5170684916618594,
           -0.38783239803441133,
           0.6971352943335424,
           0.2554803683214771,
           -0.18129075998285926
          ],
          [
           -0.10076307272820177,
           0.06378548880645803,
           -0.2136122892255107,
           -0.6240081467603847,
           -0.6579851615176187,
           0.09519316908630798,
           0.2502075550525982,
           1,
           0.6842556762041152,
           0.8775137318415303,
           -0.41660943628999636,
           -0.14896729602429973,
           0.6189344708986368,
           -0.027960088865492446,
           0.48625626156489643,
           -0.06334910155573756,
           0.5443246974690258,
           -0.4438838493252654,
           -0.38059154020935726,
           -0.6668657704200179,
           0.31616307134136934,
           -0.6354770701176733,
           0.3959936656458668,
           0.1684404787721868,
           -0.4755213716680233
          ],
          [
           0.04185125753987709,
           0.1968762451357134,
           -0.030208704199485528,
           -0.39038423578394793,
           -0.4170634396426108,
           0.1683544459371142,
           0.2734104996752303,
           0.6842556762041152,
           1,
           0.9501529444029332,
           -0.2798278084533197,
           -0.14730908998262143,
           0.5495336386359148,
           0.06321331348026477,
           0.32174258129162947,
           0.10835819063550978,
           0.45470017993820067,
           -0.26700667305333464,
           -0.24943585105909902,
           -0.45794070440342605,
           0.30190321362575084,
           -0.441014632084835,
           0.2900178515413548,
           0.21167708512064976,
           -0.3762043286344436
          ],
          [
           -0.01555930201867957,
           0.15673751387479448,
           -0.11119428624074439,
           -0.5235095161931176,
           -0.5555805468316913,
           0.1514097178235832,
           0.2867705427466451,
           0.8775137318415303,
           0.9501529444029332,
           1,
           -0.3621349512055615,
           -0.1605611226531179,
           0.6259973393680467,
           0.029615025763165836,
           0.41947539636374664,
           0.04417199934591098,
           0.5317355464117698,
           -0.36251634046955516,
           -0.3267439381598268,
           -0.5862584037183193,
           0.3337064055721296,
           -0.5617076791871847,
           0.3600217700624241,
           0.21121535024266286,
           -0.4501582223875893
          ],
          [
           0.24059283539340057,
           0.21098576909380057,
           0.3204666434871033,
           0.1846092403251681,
           0.20654732016984748,
           0.2312129518173059,
           0.14689927637625785,
           -0.41660943628999636,
           -0.2798278084533197,
           -0.3621349512055615,
           1,
           0.3235402906489638,
           -0.35791291578051265,
           0.5814685537105527,
           -0.3329465714404719,
           0.2652820572305857,
           -0.17877348321570014,
           0.13747590708993776,
           0.23033309938432892,
           0.11479962165510786,
           -0.09318048353155521,
           0.09053743273127914,
           -0.08887191582009532,
           -0.0666993388984996,
           0.6618335176514196
          ],
          [
           0.07423270945527399,
           -0.007181269583109074,
           0.04092908116728912,
           0.02387511957869416,
           0.053402684503009765,
           0.041265501053551173,
           0.04082394735106728,
           -0.14896729602429973,
           -0.14730908998262143,
           -0.1605611226531179,
           0.3235402906489638,
           1,
           -0.11241928235754486,
           0.2001436678062055,
           -0.049243598002372754,
           0.012325397923738459,
           -0.09524396724788158,
           0.011097348337504965,
           -0.02133464151730591,
           0.05156167111115604,
           -0.07327014136791109,
           0.021594349816895956,
           -0.016668648060143856,
           -0.0790860320736662,
           0.2118542113054875
          ],
          [
           -0.05982710570050795,
           0.04639576540804718,
           -0.1819337924866106,
           -0.44317284353420505,
           -0.4700303245327609,
           0.053580112691691335,
           0.16915146399246303,
           0.6189344708986368,
           0.5495336386359148,
           0.6259973393680467,
           -0.35791291578051265,
           -0.11241928235754486,
           1,
           -0.042870575147923126,
           0.42801836824010653,
           -0.04836729308312807,
           0.458019435031831,
           -0.3037646839749221,
           -0.3059577525829517,
           -0.4780310665527403,
           0.2800030312468444,
           -0.45480805158586673,
           0.29089206490701736,
           0.18120303126203685,
           -0.3856335709907033
          ],
          [
           0.11783186615292347,
           0.3673166813285029,
           0.39952905465857436,
           -0.06989919811674805,
           -0.04546186545831839,
           0.4400490052671927,
           0.44065568632356894,
           -0.027960088865492446,
           0.06321331348026477,
           0.029615025763165836,
           0.5814685537105527,
           0.2001436678062055,
           -0.042870575147923126,
           1,
           0.02732582289947514,
           0.3860652226783135,
           0.00916327012833007,
           -0.05574496223833861,
           0.04767482892334683,
           -0.2154954126268903,
           0.03728526593752081,
           -0.23274866133903693,
           0.17583863647579778,
           -0.05393834885273331,
           -0.09648162228531162
          ],
          [
           -0.40081014884553356,
           -0.2266596918518015,
           -0.34565041357248416,
           -0.3888442433317751,
           -0.3878952125047519,
           -0.11824110120496684,
           -0.008105955328220818,
           0.48625626156489643,
           0.32174258129162947,
           0.41947539636374664,
           -0.3329465714404719,
           -0.049243598002372754,
           0.42801836824010653,
           0.02732582289947514,
           1,
           -0.2885236177727154,
           0.20805286729012462,
           -0.27330888996324637,
           -0.3136128376039348,
           -0.33337352078967347,
           0.09931237155469695,
           -0.32303056529684926,
           0.2500811227868356,
           -0.023208552741911238,
           -0.38931355007646656
          ],
          [
           0.4678982160074675,
           0.9561718508216227,
           0.897989797050839,
           0.35095123726194893,
           0.3019054485878181,
           0.7316244235236569,
           0.6469343743035924,
           -0.06334910155573756,
           0.10835819063550978,
           0.04417199934591098,
           0.2652820572305857,
           0.012325397923738459,
           -0.04836729308312807,
           0.3860652226783135,
           -0.2885236177727154,
           1,
           0.2732406821064323,
           0.19792759257426998,
           0.3658077487106724,
           -0.025275816962782843,
           0.3778135568247161,
           -0.014303431794269081,
           0.08154067640669689,
           0.4399532610302507,
           -0.013021159320291957
          ],
          [
           0.22890191987101882,
           0.3942112031508376,
           -0.06492125760895343,
           -0.35139181936476876,
           -0.47723267702375066,
           0.20510583321925918,
           0.2855321869402491,
           0.5443246974690258,
           0.45470017993820067,
           0.5317355464117698,
           -0.17877348321570014,
           -0.09524396724788158,
           0.458019435031831,
           0.00916327012833007,
           0.20805286729012462,
           0.2732406821064323,
           1,
           -0.11012160736384619,
           -0.13758162226751833,
           -0.5393739478313124,
           0.7888771656429809,
           -0.49579219099181804,
           0.3373052734525381,
           0.8030008861680994,
           -0.25752738478588855
          ],
          [
           0.15467932900179554,
           0.10067271599701653,
           0.1653140238258945,
           0.5881875574021623,
           0.4891494478995437,
           -0.013945094781468758,
           -0.11062592589640415,
           -0.4438838493252654,
           -0.26700667305333464,
           -0.36251634046955516,
           0.13747590708993776,
           0.011097348337504965,
           -0.3037646839749221,
           -0.05574496223833861,
           -0.27330888996324637,
           0.19792759257426998,
           -0.11012160736384619,
           1,
           0.2830717263572052,
           0.4785554720916429,
           0.10622158877467054,
           0.5395363229232806,
           -0.259186408125286,
           0.25682971857373427,
           0.1931858835556201
          ],
          [
           0.26645885663591434,
           0.25397293140166427,
           0.34449435189523514,
           0.3993709355280646,
           0.3779157579627383,
           0.30142960405048613,
           0.04603186558327891,
           -0.38059154020935726,
           -0.24943585105909902,
           -0.3267439381598268,
           0.23033309938432892,
           -0.02133464151730591,
           -0.3059577525829517,
           0.04767482892334683,
           -0.3136128376039348,
           0.3658077487106724,
           -0.13758162226751833,
           0.2830717263572052,
           1,
           0.3083288263035781,
           0.11181180620360813,
           0.31437990218745665,
           -0.17715904962795262,
           0.25135319859726546,
           0.21981052200012524
          ],
          [
           -0.012977711977109351,
           -0.18467549917431558,
           0.07363743309098192,
           0.8595715235526136,
           0.8988266725805669,
           -0.26955192372983,
           -0.39351811172465306,
           -0.6668657704200179,
           -0.45794070440342605,
           -0.5862584037183193,
           0.11479962165510786,
           0.05156167111115604,
           -0.4780310665527403,
           -0.2154954126268903,
           -0.33337352078967347,
           -0.025275816962782843,
           -0.5393739478313124,
           0.4785554720916429,
           0.3083288263035781,
           1,
           -0.23976974344099736,
           0.9671095838172101,
           -0.4629046157785817,
           -0.031524148949896816,
           0.3345721776412447
          ],
          [
           0.2830788531142265,
           0.32873597426299545,
           -0.029878924024987843,
           -0.0529230167510093,
           -0.1864431398895737,
           0.4949606044371849,
           0.5170684916618594,
           0.31616307134136934,
           0.30190321362575084,
           0.3337064055721296,
           -0.09318048353155521,
           -0.07327014136791109,
           0.2800030312468444,
           0.03728526593752081,
           0.09931237155469695,
           0.3778135568247161,
           0.7888771656429809,
           0.10622158877467054,
           0.11181180620360813,
           -0.23976974344099736,
           1,
           -0.18562178909379204,
           0.6455576647722402,
           0.8837300547489039,
           -0.1729344277256662
          ],
          [
           0.013176018008815696,
           -0.17675660369996637,
           0.0613188664512769,
           0.8795065479103195,
           0.8666485242308958,
           -0.2671618250097335,
           -0.38783239803441133,
           -0.6354770701176733,
           -0.441014632084835,
           -0.5617076791871847,
           0.09053743273127914,
           0.021594349816895956,
           -0.45480805158586673,
           -0.23274866133903693,
           -0.32303056529684926,
           -0.014303431794269081,
           -0.49579219099181804,
           0.5395363229232806,
           0.31437990218745665,
           0.9671095838172101,
           -0.18562178909379204,
           1,
           -0.44528664671837115,
           0.027953592447169558,
           0.3164928601969971
          ],
          [
           0.016769950721114618,
           -0.0015310592562877523,
           -0.16496944530621,
           -0.3967282922745144,
           -0.42064470724729724,
           0.5729180957603506,
           0.6971352943335424,
           0.3959936656458668,
           0.2900178515413548,
           0.3600217700624241,
           -0.08887191582009532,
           -0.016668648060143856,
           0.29089206490701736,
           0.17583863647579778,
           0.2500811227868356,
           0.08154067640669689,
           0.3373052734525381,
           -0.259186408125286,
           -0.17715904962795262,
           -0.4629046157785817,
           0.6455576647722402,
           -0.44528664671837115,
           1,
           0.220521818869271,
           -0.25179317180204974
          ],
          [
           0.35911268168959265,
           0.4244471746337242,
           0.06303817188091056,
           0.1732510293580706,
           0.012005189169690834,
           0.29851033344326117,
           0.2554803683214771,
           0.1684404787721868,
           0.21167708512064976,
           0.21121535024266286,
           -0.0666993388984996,
           -0.0790860320736662,
           0.18120303126203685,
           -0.05393834885273331,
           -0.023208552741911238,
           0.4399532610302507,
           0.8030008861680994,
           0.25682971857373427,
           0.25135319859726546,
           -0.031524148949896816,
           0.8837300547489039,
           0.027953592447169558,
           0.220521818869271,
           1,
           -0.07326442006157344
          ],
          [
           0.11557157727398154,
           -0.06390780781622889,
           0.054958477074601116,
           0.2739293302675587,
           0.29197283945569635,
           -0.09033553357776461,
           -0.18129075998285926,
           -0.4755213716680233,
           -0.3762043286344436,
           -0.4501582223875893,
           0.6618335176514196,
           0.2118542113054875,
           -0.3856335709907033,
           -0.09648162228531162,
           -0.38931355007646656,
           -0.013021159320291957,
           -0.25752738478588855,
           0.1931858835556201,
           0.21981052200012524,
           0.3345721776412447,
           -0.1729344277256662,
           0.3164928601969971,
           -0.25179317180204974,
           -0.07326442006157344,
           1
          ]
         ]
        }
       ],
       "layout": {
        "coloraxis": {
         "colorscale": [
          [
           0,
           "#0d0887"
          ],
          [
           0.1111111111111111,
           "#46039f"
          ],
          [
           0.2222222222222222,
           "#7201a8"
          ],
          [
           0.3333333333333333,
           "#9c179e"
          ],
          [
           0.4444444444444444,
           "#bd3786"
          ],
          [
           0.5555555555555556,
           "#d8576b"
          ],
          [
           0.6666666666666666,
           "#ed7953"
          ],
          [
           0.7777777777777778,
           "#fb9f3a"
          ],
          [
           0.8888888888888888,
           "#fdca26"
          ],
          [
           1,
           "#f0f921"
          ]
         ]
        },
        "margin": {
         "t": 60
        },
        "template": {
         "data": {
          "bar": [
           {
            "error_x": {
             "color": "#2a3f5f"
            },
            "error_y": {
             "color": "#2a3f5f"
            },
            "marker": {
             "line": {
              "color": "#E5ECF6",
              "width": 0.5
             },
             "pattern": {
              "fillmode": "overlay",
              "size": 10,
              "solidity": 0.2
             }
            },
            "type": "bar"
           }
          ],
          "barpolar": [
           {
            "marker": {
             "line": {
              "color": "#E5ECF6",
              "width": 0.5
             },
             "pattern": {
              "fillmode": "overlay",
              "size": 10,
              "solidity": 0.2
             }
            },
            "type": "barpolar"
           }
          ],
          "carpet": [
           {
            "aaxis": {
             "endlinecolor": "#2a3f5f",
             "gridcolor": "white",
             "linecolor": "white",
             "minorgridcolor": "white",
             "startlinecolor": "#2a3f5f"
            },
            "baxis": {
             "endlinecolor": "#2a3f5f",
             "gridcolor": "white",
             "linecolor": "white",
             "minorgridcolor": "white",
             "startlinecolor": "#2a3f5f"
            },
            "type": "carpet"
           }
          ],
          "choropleth": [
           {
            "colorbar": {
             "outlinewidth": 0,
             "ticks": ""
            },
            "type": "choropleth"
           }
          ],
          "contour": [
           {
            "colorbar": {
             "outlinewidth": 0,
             "ticks": ""
            },
            "colorscale": [
             [
              0,
              "#0d0887"
             ],
             [
              0.1111111111111111,
              "#46039f"
             ],
             [
              0.2222222222222222,
              "#7201a8"
             ],
             [
              0.3333333333333333,
              "#9c179e"
             ],
             [
              0.4444444444444444,
              "#bd3786"
             ],
             [
              0.5555555555555556,
              "#d8576b"
             ],
             [
              0.6666666666666666,
              "#ed7953"
             ],
             [
              0.7777777777777778,
              "#fb9f3a"
             ],
             [
              0.8888888888888888,
              "#fdca26"
             ],
             [
              1,
              "#f0f921"
             ]
            ],
            "type": "contour"
           }
          ],
          "contourcarpet": [
           {
            "colorbar": {
             "outlinewidth": 0,
             "ticks": ""
            },
            "type": "contourcarpet"
           }
          ],
          "heatmap": [
           {
            "colorbar": {
             "outlinewidth": 0,
             "ticks": ""
            },
            "colorscale": [
             [
              0,
              "#0d0887"
             ],
             [
              0.1111111111111111,
              "#46039f"
             ],
             [
              0.2222222222222222,
              "#7201a8"
             ],
             [
              0.3333333333333333,
              "#9c179e"
             ],
             [
              0.4444444444444444,
              "#bd3786"
             ],
             [
              0.5555555555555556,
              "#d8576b"
             ],
             [
              0.6666666666666666,
              "#ed7953"
             ],
             [
              0.7777777777777778,
              "#fb9f3a"
             ],
             [
              0.8888888888888888,
              "#fdca26"
             ],
             [
              1,
              "#f0f921"
             ]
            ],
            "type": "heatmap"
           }
          ],
          "heatmapgl": [
           {
            "colorbar": {
             "outlinewidth": 0,
             "ticks": ""
            },
            "colorscale": [
             [
              0,
              "#0d0887"
             ],
             [
              0.1111111111111111,
              "#46039f"
             ],
             [
              0.2222222222222222,
              "#7201a8"
             ],
             [
              0.3333333333333333,
              "#9c179e"
             ],
             [
              0.4444444444444444,
              "#bd3786"
             ],
             [
              0.5555555555555556,
              "#d8576b"
             ],
             [
              0.6666666666666666,
              "#ed7953"
             ],
             [
              0.7777777777777778,
              "#fb9f3a"
             ],
             [
              0.8888888888888888,
              "#fdca26"
             ],
             [
              1,
              "#f0f921"
             ]
            ],
            "type": "heatmapgl"
           }
          ],
          "histogram": [
           {
            "marker": {
             "pattern": {
              "fillmode": "overlay",
              "size": 10,
              "solidity": 0.2
             }
            },
            "type": "histogram"
           }
          ],
          "histogram2d": [
           {
            "colorbar": {
             "outlinewidth": 0,
             "ticks": ""
            },
            "colorscale": [
             [
              0,
              "#0d0887"
             ],
             [
              0.1111111111111111,
              "#46039f"
             ],
             [
              0.2222222222222222,
              "#7201a8"
             ],
             [
              0.3333333333333333,
              "#9c179e"
             ],
             [
              0.4444444444444444,
              "#bd3786"
             ],
             [
              0.5555555555555556,
              "#d8576b"
             ],
             [
              0.6666666666666666,
              "#ed7953"
             ],
             [
              0.7777777777777778,
              "#fb9f3a"
             ],
             [
              0.8888888888888888,
              "#fdca26"
             ],
             [
              1,
              "#f0f921"
             ]
            ],
            "type": "histogram2d"
           }
          ],
          "histogram2dcontour": [
           {
            "colorbar": {
             "outlinewidth": 0,
             "ticks": ""
            },
            "colorscale": [
             [
              0,
              "#0d0887"
             ],
             [
              0.1111111111111111,
              "#46039f"
             ],
             [
              0.2222222222222222,
              "#7201a8"
             ],
             [
              0.3333333333333333,
              "#9c179e"
             ],
             [
              0.4444444444444444,
              "#bd3786"
             ],
             [
              0.5555555555555556,
              "#d8576b"
             ],
             [
              0.6666666666666666,
              "#ed7953"
             ],
             [
              0.7777777777777778,
              "#fb9f3a"
             ],
             [
              0.8888888888888888,
              "#fdca26"
             ],
             [
              1,
              "#f0f921"
             ]
            ],
            "type": "histogram2dcontour"
           }
          ],
          "mesh3d": [
           {
            "colorbar": {
             "outlinewidth": 0,
             "ticks": ""
            },
            "type": "mesh3d"
           }
          ],
          "parcoords": [
           {
            "line": {
             "colorbar": {
              "outlinewidth": 0,
              "ticks": ""
             }
            },
            "type": "parcoords"
           }
          ],
          "pie": [
           {
            "automargin": true,
            "type": "pie"
           }
          ],
          "scatter": [
           {
            "fillpattern": {
             "fillmode": "overlay",
             "size": 10,
             "solidity": 0.2
            },
            "type": "scatter"
           }
          ],
          "scatter3d": [
           {
            "line": {
             "colorbar": {
              "outlinewidth": 0,
              "ticks": ""
             }
            },
            "marker": {
             "colorbar": {
              "outlinewidth": 0,
              "ticks": ""
             }
            },
            "type": "scatter3d"
           }
          ],
          "scattercarpet": [
           {
            "marker": {
             "colorbar": {
              "outlinewidth": 0,
              "ticks": ""
             }
            },
            "type": "scattercarpet"
           }
          ],
          "scattergeo": [
           {
            "marker": {
             "colorbar": {
              "outlinewidth": 0,
              "ticks": ""
             }
            },
            "type": "scattergeo"
           }
          ],
          "scattergl": [
           {
            "marker": {
             "colorbar": {
              "outlinewidth": 0,
              "ticks": ""
             }
            },
            "type": "scattergl"
           }
          ],
          "scattermapbox": [
           {
            "marker": {
             "colorbar": {
              "outlinewidth": 0,
              "ticks": ""
             }
            },
            "type": "scattermapbox"
           }
          ],
          "scatterpolar": [
           {
            "marker": {
             "colorbar": {
              "outlinewidth": 0,
              "ticks": ""
             }
            },
            "type": "scatterpolar"
           }
          ],
          "scatterpolargl": [
           {
            "marker": {
             "colorbar": {
              "outlinewidth": 0,
              "ticks": ""
             }
            },
            "type": "scatterpolargl"
           }
          ],
          "scatterternary": [
           {
            "marker": {
             "colorbar": {
              "outlinewidth": 0,
              "ticks": ""
             }
            },
            "type": "scatterternary"
           }
          ],
          "surface": [
           {
            "colorbar": {
             "outlinewidth": 0,
             "ticks": ""
            },
            "colorscale": [
             [
              0,
              "#0d0887"
             ],
             [
              0.1111111111111111,
              "#46039f"
             ],
             [
              0.2222222222222222,
              "#7201a8"
             ],
             [
              0.3333333333333333,
              "#9c179e"
             ],
             [
              0.4444444444444444,
              "#bd3786"
             ],
             [
              0.5555555555555556,
              "#d8576b"
             ],
             [
              0.6666666666666666,
              "#ed7953"
             ],
             [
              0.7777777777777778,
              "#fb9f3a"
             ],
             [
              0.8888888888888888,
              "#fdca26"
             ],
             [
              1,
              "#f0f921"
             ]
            ],
            "type": "surface"
           }
          ],
          "table": [
           {
            "cells": {
             "fill": {
              "color": "#EBF0F8"
             },
             "line": {
              "color": "white"
             }
            },
            "header": {
             "fill": {
              "color": "#C8D4E3"
             },
             "line": {
              "color": "white"
             }
            },
            "type": "table"
           }
          ]
         },
         "layout": {
          "annotationdefaults": {
           "arrowcolor": "#2a3f5f",
           "arrowhead": 0,
           "arrowwidth": 1
          },
          "autotypenumbers": "strict",
          "coloraxis": {
           "colorbar": {
            "outlinewidth": 0,
            "ticks": ""
           }
          },
          "colorscale": {
           "diverging": [
            [
             0,
             "#8e0152"
            ],
            [
             0.1,
             "#c51b7d"
            ],
            [
             0.2,
             "#de77ae"
            ],
            [
             0.3,
             "#f1b6da"
            ],
            [
             0.4,
             "#fde0ef"
            ],
            [
             0.5,
             "#f7f7f7"
            ],
            [
             0.6,
             "#e6f5d0"
            ],
            [
             0.7,
             "#b8e186"
            ],
            [
             0.8,
             "#7fbc41"
            ],
            [
             0.9,
             "#4d9221"
            ],
            [
             1,
             "#276419"
            ]
           ],
           "sequential": [
            [
             0,
             "#0d0887"
            ],
            [
             0.1111111111111111,
             "#46039f"
            ],
            [
             0.2222222222222222,
             "#7201a8"
            ],
            [
             0.3333333333333333,
             "#9c179e"
            ],
            [
             0.4444444444444444,
             "#bd3786"
            ],
            [
             0.5555555555555556,
             "#d8576b"
            ],
            [
             0.6666666666666666,
             "#ed7953"
            ],
            [
             0.7777777777777778,
             "#fb9f3a"
            ],
            [
             0.8888888888888888,
             "#fdca26"
            ],
            [
             1,
             "#f0f921"
            ]
           ],
           "sequentialminus": [
            [
             0,
             "#0d0887"
            ],
            [
             0.1111111111111111,
             "#46039f"
            ],
            [
             0.2222222222222222,
             "#7201a8"
            ],
            [
             0.3333333333333333,
             "#9c179e"
            ],
            [
             0.4444444444444444,
             "#bd3786"
            ],
            [
             0.5555555555555556,
             "#d8576b"
            ],
            [
             0.6666666666666666,
             "#ed7953"
            ],
            [
             0.7777777777777778,
             "#fb9f3a"
            ],
            [
             0.8888888888888888,
             "#fdca26"
            ],
            [
             1,
             "#f0f921"
            ]
           ]
          },
          "colorway": [
           "#636efa",
           "#EF553B",
           "#00cc96",
           "#ab63fa",
           "#FFA15A",
           "#19d3f3",
           "#FF6692",
           "#B6E880",
           "#FF97FF",
           "#FECB52"
          ],
          "font": {
           "color": "#2a3f5f"
          },
          "geo": {
           "bgcolor": "white",
           "lakecolor": "white",
           "landcolor": "#E5ECF6",
           "showlakes": true,
           "showland": true,
           "subunitcolor": "white"
          },
          "hoverlabel": {
           "align": "left"
          },
          "hovermode": "closest",
          "mapbox": {
           "style": "light"
          },
          "paper_bgcolor": "white",
          "plot_bgcolor": "#E5ECF6",
          "polar": {
           "angularaxis": {
            "gridcolor": "white",
            "linecolor": "white",
            "ticks": ""
           },
           "bgcolor": "#E5ECF6",
           "radialaxis": {
            "gridcolor": "white",
            "linecolor": "white",
            "ticks": ""
           }
          },
          "scene": {
           "xaxis": {
            "backgroundcolor": "#E5ECF6",
            "gridcolor": "white",
            "gridwidth": 2,
            "linecolor": "white",
            "showbackground": true,
            "ticks": "",
            "zerolinecolor": "white"
           },
           "yaxis": {
            "backgroundcolor": "#E5ECF6",
            "gridcolor": "white",
            "gridwidth": 2,
            "linecolor": "white",
            "showbackground": true,
            "ticks": "",
            "zerolinecolor": "white"
           },
           "zaxis": {
            "backgroundcolor": "#E5ECF6",
            "gridcolor": "white",
            "gridwidth": 2,
            "linecolor": "white",
            "showbackground": true,
            "ticks": "",
            "zerolinecolor": "white"
           }
          },
          "shapedefaults": {
           "line": {
            "color": "#2a3f5f"
           }
          },
          "ternary": {
           "aaxis": {
            "gridcolor": "white",
            "linecolor": "white",
            "ticks": ""
           },
           "baxis": {
            "gridcolor": "white",
            "linecolor": "white",
            "ticks": ""
           },
           "bgcolor": "#E5ECF6",
           "caxis": {
            "gridcolor": "white",
            "linecolor": "white",
            "ticks": ""
           }
          },
          "title": {
           "x": 0.05
          },
          "xaxis": {
           "automargin": true,
           "gridcolor": "white",
           "linecolor": "white",
           "ticks": "",
           "title": {
            "standoff": 15
           },
           "zerolinecolor": "white",
           "zerolinewidth": 2
          },
          "yaxis": {
           "automargin": true,
           "gridcolor": "white",
           "linecolor": "white",
           "ticks": "",
           "title": {
            "standoff": 15
           },
           "zerolinecolor": "white",
           "zerolinewidth": 2
          }
         }
        },
        "xaxis": {
         "anchor": "y",
         "constrain": "domain",
         "domain": [
          0,
          1
         ],
         "scaleanchor": "y"
        },
        "yaxis": {
         "anchor": "x",
         "autorange": "reversed",
         "constrain": "domain",
         "domain": [
          0,
          1
         ]
        }
       }
      }
     },
     "metadata": {},
     "output_type": "display_data"
    }
   ],
   "source": [
    "# altering data to show stat per min played for better comparability \n",
    "#filter out players with less then 50 min/season total\n",
    "data_per_min = data.groupby(['PLAYER','PLAYER_ID','Year'])[total_cols].sum().reset_index()\n",
    "for col in data_per_min.columns[4:]:\n",
    "    data_per_min[col] = data_per_min[col]/data_per_min['MIN']\n",
    "\n",
    "data_per_min['FG%'] = data_per_min['FGM']/data_per_min['FGA'] #shooting percentage\n",
    "data_per_min['3PT%'] = data_per_min['FG3M']/data_per_min['FG3A'] #shooting percentage\n",
    "data_per_min['FT%'] = data_per_min['FTM']/data_per_min['FTA'] #shooting percentage\n",
    "data_per_min['FG3A%'] = data_per_min['FG3A']/data_per_min['FGA'] #percentage of 3pt attems\n",
    "data_per_min['PTS/FGA'] = data_per_min['PTS']/data_per_min['FGA'] #avg points per attempt\n",
    "data_per_min['FG3M/FGM'] = data_per_min['FG3M']/data_per_min['FGM'] #percentage of field goal makes from behind arc\n",
    "data_per_min['FTA/FGA'] = data_per_min['FTA']/data_per_min['FGA'] #free throw rate\n",
    "data_per_min['TRU%'] = data_per_min['PTS']/(data_per_min['FGA']+0.475*data_per_min['FTA']) #true shooting percentage(not actual percetage)\n",
    "data_per_min['AST_TOV'] = data_per_min['AST']/data_per_min['TOV'] #turnaover ratio\n",
    "\n",
    "data_per_min = data_per_min[data_per_min['MIN']>=50]\n",
    "data_per_min.drop(columns='PLAYER_ID', inplace=True)\n",
    "\n",
    "fig = px.imshow(data_per_min.corr())\n",
    "\n",
    "fig.show()\n",
    "fig.write_html('heat_corr.html')\n",
    "#dark purple shows negative correlation between stats\n",
    "#bright yellow shows positive correlation between stats"
   ]
  },
  {
   "cell_type": "code",
   "execution_count": null,
   "metadata": {},
   "outputs": [],
   "source": []
  }
 ],
 "metadata": {
  "kernelspec": {
   "display_name": "stat386",
   "language": "python",
   "name": "python3"
  },
  "language_info": {
   "codemirror_mode": {
    "name": "ipython",
    "version": 3
   },
   "file_extension": ".py",
   "mimetype": "text/x-python",
   "name": "python",
   "nbconvert_exporter": "python",
   "pygments_lexer": "ipython3",
   "version": "3.10.12"
  },
  "orig_nbformat": 4
 },
 "nbformat": 4,
 "nbformat_minor": 2
}
